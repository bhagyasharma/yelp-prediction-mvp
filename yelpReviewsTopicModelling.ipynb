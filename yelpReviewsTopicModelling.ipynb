{
 "cells": [
  {
   "cell_type": "markdown",
   "metadata": {},
   "source": [
    "## yelpReviewsTopicModelling"
   ]
  },
  {
   "cell_type": "code",
   "execution_count": 1,
   "metadata": {},
   "outputs": [],
   "source": [
    "## IMPORT NECESSARY PACKAGES #1\n",
    "\n",
    "from pprint import pprint\n",
    "# import pandasql as ps\n",
    "import numpy as np\n",
    "import pandas as pd\n",
    "import requests\n",
    "import matplotlib.pyplot as plt\n",
    "%matplotlib inline\n",
    "import seaborn as sns\n",
    "from zipfile import ZipFile\n",
    "from io import BytesIO\n",
    "from IPython.core.interactiveshell import InteractiveShell\n",
    "from IPython.display import display, HTML\n",
    "# InteractiveShell.ast_node_interactivity = \"all\"\n",
    "# CSS = \"\"\"\n",
    "# .output {\n",
    "#     flex-direction: row;\n",
    "# }\n",
    "# \"\"\"\n",
    "# HTML('<style>{}</style>'.format(CSS))\n",
    "\n",
    "sns.set()"
   ]
  },
  {
   "cell_type": "code",
   "execution_count": 2,
   "metadata": {},
   "outputs": [],
   "source": [
    "## LOAD TORONTO DATASETS & DELETE WEIRD \n",
    "\n",
    "restaurants_df = pd.read_csv(\"datasets/american_restaurants.csv\", sep='\\t', encoding='utf-8')\n",
    "reviews_df = pd.read_csv(\"datasets/review_sentiment.csv\", encoding='utf-8')\n",
    "\n",
    "del(restaurants_df['Unnamed: 0'])\n",
    "# del(reviews_df['Unnamed: 0'])\n",
    "\n",
    "restaurants_df = restaurants_df[restaurants_df['RestaurantsPriceRange2'] == 2]\n",
    "reviews_df = reviews_df.loc[reviews_df['business_id'].isin(restaurants_df.business_id)]"
   ]
  },
  {
   "cell_type": "code",
   "execution_count": 3,
   "metadata": {
    "scrolled": true
   },
   "outputs": [
    {
     "data": {
      "text/html": [
       "<div>\n",
       "<style scoped>\n",
       "    .dataframe tbody tr th:only-of-type {\n",
       "        vertical-align: middle;\n",
       "    }\n",
       "\n",
       "    .dataframe tbody tr th {\n",
       "        vertical-align: top;\n",
       "    }\n",
       "\n",
       "    .dataframe thead th {\n",
       "        text-align: right;\n",
       "    }\n",
       "</style>\n",
       "<table border=\"1\" class=\"dataframe\">\n",
       "  <thead>\n",
       "    <tr style=\"text-align: right;\">\n",
       "      <th></th>\n",
       "      <th>address</th>\n",
       "      <th>attributes</th>\n",
       "      <th>AcceptsInsurance</th>\n",
       "      <th>AgesAllowed</th>\n",
       "      <th>Alcohol</th>\n",
       "      <th>Ambience</th>\n",
       "      <th>BYOB</th>\n",
       "      <th>BYOBCorkage</th>\n",
       "      <th>BestNights</th>\n",
       "      <th>BikeParking</th>\n",
       "      <th>...</th>\n",
       "      <th>is_open</th>\n",
       "      <th>latitude</th>\n",
       "      <th>longitude</th>\n",
       "      <th>name</th>\n",
       "      <th>neighborhood</th>\n",
       "      <th>postal_code</th>\n",
       "      <th>review_count</th>\n",
       "      <th>stars</th>\n",
       "      <th>state</th>\n",
       "      <th>cuisine</th>\n",
       "    </tr>\n",
       "  </thead>\n",
       "  <tbody>\n",
       "    <tr>\n",
       "      <th>0</th>\n",
       "      <td>2201 S Fort Apache Rd</td>\n",
       "      <td>NaN</td>\n",
       "      <td>NaN</td>\n",
       "      <td>NaN</td>\n",
       "      <td>full_bar</td>\n",
       "      <td>{'romantic': False, 'intimate': False, 'classy...</td>\n",
       "      <td>NaN</td>\n",
       "      <td>NaN</td>\n",
       "      <td>NaN</td>\n",
       "      <td>True</td>\n",
       "      <td>...</td>\n",
       "      <td>1</td>\n",
       "      <td>36.147496</td>\n",
       "      <td>-115.298066</td>\n",
       "      <td>Chicago Brewing Company</td>\n",
       "      <td>Westside</td>\n",
       "      <td>89117.0</td>\n",
       "      <td>446</td>\n",
       "      <td>3.5</td>\n",
       "      <td>NV</td>\n",
       "      <td>american</td>\n",
       "    </tr>\n",
       "    <tr>\n",
       "      <th>4</th>\n",
       "      <td>7160 North Durango Dr, Ste 110</td>\n",
       "      <td>NaN</td>\n",
       "      <td>NaN</td>\n",
       "      <td>NaN</td>\n",
       "      <td>beer_and_wine</td>\n",
       "      <td>{'romantic': False, 'intimate': False, 'classy...</td>\n",
       "      <td>NaN</td>\n",
       "      <td>NaN</td>\n",
       "      <td>NaN</td>\n",
       "      <td>True</td>\n",
       "      <td>...</td>\n",
       "      <td>0</td>\n",
       "      <td>36.291436</td>\n",
       "      <td>-115.287016</td>\n",
       "      <td>Table 89</td>\n",
       "      <td>Centennial</td>\n",
       "      <td>89149.0</td>\n",
       "      <td>79</td>\n",
       "      <td>3.5</td>\n",
       "      <td>NV</td>\n",
       "      <td>american</td>\n",
       "    </tr>\n",
       "    <tr>\n",
       "      <th>5</th>\n",
       "      <td>6689 Las Vegas Blvd</td>\n",
       "      <td>NaN</td>\n",
       "      <td>NaN</td>\n",
       "      <td>NaN</td>\n",
       "      <td>beer_and_wine</td>\n",
       "      <td>{'romantic': False, 'intimate': False, 'classy...</td>\n",
       "      <td>NaN</td>\n",
       "      <td>NaN</td>\n",
       "      <td>NaN</td>\n",
       "      <td>True</td>\n",
       "      <td>...</td>\n",
       "      <td>1</td>\n",
       "      <td>36.067581</td>\n",
       "      <td>-115.174230</td>\n",
       "      <td>LV bar</td>\n",
       "      <td>Southeast</td>\n",
       "      <td>89119.0</td>\n",
       "      <td>22</td>\n",
       "      <td>4.5</td>\n",
       "      <td>NV</td>\n",
       "      <td>american</td>\n",
       "    </tr>\n",
       "    <tr>\n",
       "      <th>6</th>\n",
       "      <td>6683 Las Vegas Blvd S</td>\n",
       "      <td>NaN</td>\n",
       "      <td>NaN</td>\n",
       "      <td>NaN</td>\n",
       "      <td>full_bar</td>\n",
       "      <td>{'romantic': False, 'intimate': False, 'classy...</td>\n",
       "      <td>NaN</td>\n",
       "      <td>NaN</td>\n",
       "      <td>{'monday': True, 'tuesday': False, 'friday': T...</td>\n",
       "      <td>True</td>\n",
       "      <td>...</td>\n",
       "      <td>1</td>\n",
       "      <td>36.066182</td>\n",
       "      <td>-115.175288</td>\n",
       "      <td>Miller's Ale House - Las Vegas</td>\n",
       "      <td>Southeast</td>\n",
       "      <td>89119.0</td>\n",
       "      <td>583</td>\n",
       "      <td>3.5</td>\n",
       "      <td>NV</td>\n",
       "      <td>american</td>\n",
       "    </tr>\n",
       "    <tr>\n",
       "      <th>7</th>\n",
       "      <td>6430 N Durango Dr, Ste 110</td>\n",
       "      <td>NaN</td>\n",
       "      <td>NaN</td>\n",
       "      <td>NaN</td>\n",
       "      <td>full_bar</td>\n",
       "      <td>{'romantic': False, 'intimate': False, 'classy...</td>\n",
       "      <td>NaN</td>\n",
       "      <td>NaN</td>\n",
       "      <td>{'monday': False, 'tuesday': False, 'friday': ...</td>\n",
       "      <td>True</td>\n",
       "      <td>...</td>\n",
       "      <td>1</td>\n",
       "      <td>36.277783</td>\n",
       "      <td>-115.286333</td>\n",
       "      <td>Distill - A Local Bar</td>\n",
       "      <td>Centennial</td>\n",
       "      <td>89149.0</td>\n",
       "      <td>203</td>\n",
       "      <td>4.0</td>\n",
       "      <td>NV</td>\n",
       "      <td>american</td>\n",
       "    </tr>\n",
       "  </tbody>\n",
       "</table>\n",
       "<p>5 rows × 62 columns</p>\n",
       "</div>"
      ],
      "text/plain": [
       "                          address  attributes  AcceptsInsurance AgesAllowed  \\\n",
       "0           2201 S Fort Apache Rd         NaN               NaN         NaN   \n",
       "4  7160 North Durango Dr, Ste 110         NaN               NaN         NaN   \n",
       "5             6689 Las Vegas Blvd         NaN               NaN         NaN   \n",
       "6           6683 Las Vegas Blvd S         NaN               NaN         NaN   \n",
       "7      6430 N Durango Dr, Ste 110         NaN               NaN         NaN   \n",
       "\n",
       "         Alcohol                                           Ambience BYOB  \\\n",
       "0       full_bar  {'romantic': False, 'intimate': False, 'classy...  NaN   \n",
       "4  beer_and_wine  {'romantic': False, 'intimate': False, 'classy...  NaN   \n",
       "5  beer_and_wine  {'romantic': False, 'intimate': False, 'classy...  NaN   \n",
       "6       full_bar  {'romantic': False, 'intimate': False, 'classy...  NaN   \n",
       "7       full_bar  {'romantic': False, 'intimate': False, 'classy...  NaN   \n",
       "\n",
       "  BYOBCorkage                                         BestNights BikeParking  \\\n",
       "0         NaN                                                NaN        True   \n",
       "4         NaN                                                NaN        True   \n",
       "5         NaN                                                NaN        True   \n",
       "6         NaN  {'monday': True, 'tuesday': False, 'friday': T...        True   \n",
       "7         NaN  {'monday': False, 'tuesday': False, 'friday': ...        True   \n",
       "\n",
       "     ...    is_open   latitude   longitude                            name  \\\n",
       "0    ...          1  36.147496 -115.298066         Chicago Brewing Company   \n",
       "4    ...          0  36.291436 -115.287016                        Table 89   \n",
       "5    ...          1  36.067581 -115.174230                          LV bar   \n",
       "6    ...          1  36.066182 -115.175288  Miller's Ale House - Las Vegas   \n",
       "7    ...          1  36.277783 -115.286333           Distill - A Local Bar   \n",
       "\n",
       "  neighborhood postal_code review_count stars state   cuisine  \n",
       "0     Westside     89117.0          446   3.5    NV  american  \n",
       "4   Centennial     89149.0           79   3.5    NV  american  \n",
       "5    Southeast     89119.0           22   4.5    NV  american  \n",
       "6    Southeast     89119.0          583   3.5    NV  american  \n",
       "7   Centennial     89149.0          203   4.0    NV  american  \n",
       "\n",
       "[5 rows x 62 columns]"
      ]
     },
     "execution_count": 3,
     "metadata": {},
     "output_type": "execute_result"
    }
   ],
   "source": [
    "restaurants_df.head()"
   ]
  },
  {
   "cell_type": "code",
   "execution_count": 4,
   "metadata": {},
   "outputs": [
    {
     "data": {
      "text/html": [
       "<div>\n",
       "<style scoped>\n",
       "    .dataframe tbody tr th:only-of-type {\n",
       "        vertical-align: middle;\n",
       "    }\n",
       "\n",
       "    .dataframe tbody tr th {\n",
       "        vertical-align: top;\n",
       "    }\n",
       "\n",
       "    .dataframe thead th {\n",
       "        text-align: right;\n",
       "    }\n",
       "</style>\n",
       "<table border=\"1\" class=\"dataframe\">\n",
       "  <thead>\n",
       "    <tr style=\"text-align: right;\">\n",
       "      <th></th>\n",
       "      <th>business_id</th>\n",
       "      <th>text</th>\n",
       "      <th>label</th>\n",
       "      <th>stars</th>\n",
       "    </tr>\n",
       "  </thead>\n",
       "  <tbody>\n",
       "    <tr>\n",
       "      <th>0</th>\n",
       "      <td>jtQARsP6P-LbkyjbO1qNGg</td>\n",
       "      <td>Terrible. Dry corn bread. Rib tips were all fa...</td>\n",
       "      <td>-1</td>\n",
       "      <td>1.0</td>\n",
       "    </tr>\n",
       "    <tr>\n",
       "      <th>2</th>\n",
       "      <td>faPVqws-x-5k2CQKDNtHxw</td>\n",
       "      <td>People please...the only good thing about this...</td>\n",
       "      <td>1</td>\n",
       "      <td>1.0</td>\n",
       "    </tr>\n",
       "    <tr>\n",
       "      <th>5</th>\n",
       "      <td>3kdSl5mo9dWC4clrQjEDGg</td>\n",
       "      <td>????????????????????????????????????\\r\\n?????7...</td>\n",
       "      <td>0</td>\n",
       "      <td>4.0</td>\n",
       "    </tr>\n",
       "    <tr>\n",
       "      <th>6</th>\n",
       "      <td>f4x1YBxkLrZg652xt2KR5g</td>\n",
       "      <td>????????????????????\\r\\n???Link Hotel???????\\r...</td>\n",
       "      <td>0</td>\n",
       "      <td>3.0</td>\n",
       "    </tr>\n",
       "    <tr>\n",
       "      <th>8</th>\n",
       "      <td>wuQDMDlqM17jQNo0lYQZ7g</td>\n",
       "      <td>One of the best experiences I have had in Vega...</td>\n",
       "      <td>1</td>\n",
       "      <td>5.0</td>\n",
       "    </tr>\n",
       "  </tbody>\n",
       "</table>\n",
       "</div>"
      ],
      "text/plain": [
       "              business_id                                               text  \\\n",
       "0  jtQARsP6P-LbkyjbO1qNGg  Terrible. Dry corn bread. Rib tips were all fa...   \n",
       "2  faPVqws-x-5k2CQKDNtHxw  People please...the only good thing about this...   \n",
       "5  3kdSl5mo9dWC4clrQjEDGg  ????????????????????????????????????\\r\\n?????7...   \n",
       "6  f4x1YBxkLrZg652xt2KR5g  ????????????????????\\r\\n???Link Hotel???????\\r...   \n",
       "8  wuQDMDlqM17jQNo0lYQZ7g  One of the best experiences I have had in Vega...   \n",
       "\n",
       "   label  stars  \n",
       "0     -1    1.0  \n",
       "2      1    1.0  \n",
       "5      0    4.0  \n",
       "6      0    3.0  \n",
       "8      1    5.0  "
      ]
     },
     "execution_count": 4,
     "metadata": {},
     "output_type": "execute_result"
    }
   ],
   "source": [
    "reviews_df.head()"
   ]
  },
  {
   "cell_type": "code",
   "execution_count": 5,
   "metadata": {},
   "outputs": [
    {
     "name": "stdout",
     "output_type": "stream",
     "text": [
      "Number of categories listed 1\n"
     ]
    },
    {
     "data": {
      "text/plain": [
       "0    Las Vegas\n",
       "4    Las Vegas\n",
       "5    Las Vegas\n",
       "6    Las Vegas\n",
       "7    Las Vegas\n",
       "Name: city, dtype: object"
      ]
     },
     "execution_count": 5,
     "metadata": {},
     "output_type": "execute_result"
    }
   ],
   "source": [
    "print('Number of categories listed',restaurants_df['city'].nunique())\n",
    "\n",
    "restaurants_df['city'].head()"
   ]
  },
  {
   "cell_type": "code",
   "execution_count": 6,
   "metadata": {},
   "outputs": [
    {
     "data": {
      "text/plain": [
       "774"
      ]
     },
     "execution_count": 6,
     "metadata": {},
     "output_type": "execute_result"
    }
   ],
   "source": [
    "len(restaurants_df)"
   ]
  },
  {
   "cell_type": "code",
   "execution_count": 7,
   "metadata": {},
   "outputs": [
    {
     "data": {
      "image/png": "[encoded data removed]",
      "text/plain": [
       "<Figure size 1080x216 with 5 Axes>"
      ]
     },
     "metadata": {
      "needs_background": "light"
     },
     "output_type": "display_data"
    }
   ],
   "source": [
    "# check how the review lengths are distributed\n",
    "reviews_df['review_length'] = reviews_df.text.map(len)\n",
    "\n",
    "ax = sns.FacetGrid(data=reviews_df, col='stars', xlim=(0, 2000)).map(plt.hist, 'review_length', bins=50)\n",
    "\n",
    "ax.axes[0][0].set(ylabel='number of reviews');"
   ]
  },
  {
   "cell_type": "code",
   "execution_count": 8,
   "metadata": {},
   "outputs": [
    {
     "name": "stdout",
     "output_type": "stream",
     "text": [
      "Postive Reviews:  182,678\n",
      "Negative Reviews:  28,209\n"
     ]
    }
   ],
   "source": [
    "pos_reviews = reviews_df.text[reviews_df.label == 1].values\n",
    "neg_reviews = reviews_df.text[reviews_df.label == -1].values\n",
    "print('Postive Reviews:  {:,}'.format(len(pos_reviews)))\n",
    "print('Negative Reviews:  {:,}'.format(len(neg_reviews)))"
   ]
  },
  {
   "cell_type": "code",
   "execution_count": 9,
   "metadata": {},
   "outputs": [],
   "source": [
    "# additional stopwords\n",
    "from sklearn.feature_extraction import text \n",
    "extra_words = ['ve', 'like', 'got', 'toronto', 'just', \n",
    "               'don', 'really', 'said', 'told', 'ok',\n",
    "               'came', 'went', 'did', 'didn', 'good']\n",
    "stop_words = text.ENGLISH_STOP_WORDS.union(extra_words)"
   ]
  },
  {
   "cell_type": "code",
   "execution_count": 10,
   "metadata": {},
   "outputs": [
    {
     "name": "stdout",
     "output_type": "stream",
     "text": [
      "Wall time: 2.42 s\n"
     ]
    }
   ],
   "source": [
    "%%time\n",
    "from sklearn.feature_extraction.text import TfidfVectorizer\n",
    "\n",
    "# Create a vectorizer object to generate term document counts\n",
    "tfidf_pos = TfidfVectorizer(stop_words=stop_words, min_df=10, max_df=0.5, \n",
    "                        ngram_range=(1,1), token_pattern='[a-z][a-z]+')\n",
    "\n",
    "tfidf_neg = TfidfVectorizer(stop_words=stop_words, min_df=10, max_df=0.5, \n",
    "                        ngram_range=(1,1), token_pattern='[a-z][a-z]+')\n",
    "\n",
    "# Get random subset of reviews\n",
    "np.random.seed(38)\n",
    "num_reviews = 20000\n",
    "random_neg = np.random.choice(neg_reviews, size=num_reviews)\n",
    "random_pos = np.random.choice(pos_reviews, size=num_reviews)\n",
    "\n",
    "dicty = {'pizzas':'pizza', 'burgers':'burger', 'ordered':'order',\n",
    "         'prices':'price', 'topping':'toppings'}\n",
    "def replace_words(text, dicty):\n",
    "    '''Returns text with word substitutions made according\n",
    "       to the passed `dicty` dictionary'''\n",
    "    for i,j in dicty.items():\n",
    "        text = text.replace(i,j)\n",
    "    return text\n",
    "\n",
    "random_neg = [replace_words(w, dicty) for w in random_neg]\n",
    "random_pos = [replace_words(w, dicty) for w in random_pos]\n",
    "\n",
    "# Get the vectors\n",
    "neg_vectors = tfidf_neg.fit_transform(random_neg)\n",
    "pos_vectors = tfidf_pos.fit_transform(random_pos)"
   ]
  },
  {
   "cell_type": "code",
   "execution_count": 11,
   "metadata": {},
   "outputs": [],
   "source": [
    "# Store TFIDF vectors in a Pandas DataFrame to investigate further\n",
    "neg_df = pd.DataFrame(neg_vectors.todense(), columns=[tfidf_neg.get_feature_names()])\n",
    "pos_df = pd.DataFrame(pos_vectors.todense(), columns=[tfidf_pos.get_feature_names()])\n",
    "\n",
    "# get mean for each column (word): highest means are most important words\n",
    "col_means_neg = {}\n",
    "for col in neg_df:\n",
    "    col_means_neg[col] = neg_df[col].mean()\n",
    "\n",
    "col_means_pos = {}\n",
    "for col in pos_df:\n",
    "    col_means_pos[col] = pos_df[col].mean()"
   ]
  },
  {
   "cell_type": "code",
   "execution_count": 12,
   "metadata": {
    "scrolled": true
   },
   "outputs": [
    {
     "name": "stdout",
     "output_type": "stream",
     "text": [
      "Top 10 words in POSITIVE reviews:[('great',), ('place',), ('burger',), ('service',), ('order',), ('time',), ('vegas',), ('chicken',), ('amazing',), ('breakfast',)]\n",
      "Top 10 words in NEGATIVE reviews:[('service',), ('order',), ('place',), ('burger',), ('time',), ('minutes',), ('bad',), ('horrible',), ('table',), ('server',)]\n"
     ]
    }
   ],
   "source": [
    "no_top_words = 10\n",
    "\n",
    "print('Top %d words in POSITIVE reviews:' %no_top_words, end='')\n",
    "print(sorted(col_means_pos, key=col_means_pos.get, reverse=True)[:no_top_words])\n",
    "\n",
    "print('Top %d words in NEGATIVE reviews:' %no_top_words, end='')\n",
    "print(sorted(col_means_neg, key=col_means_neg.get, reverse=True)[:no_top_words])"
   ]
  },
  {
   "cell_type": "code",
   "execution_count": 13,
   "metadata": {},
   "outputs": [],
   "source": [
    "# delete dataframes to save memory\n",
    "del neg_df\n",
    "del pos_df"
   ]
  },
  {
   "cell_type": "code",
   "execution_count": 15,
   "metadata": {},
   "outputs": [
    {
     "name": "stderr",
     "output_type": "stream",
     "text": [
      "C:\\Users\\User\\Anaconda3\\lib\\site-packages\\gensim\\utils.py:1197: UserWarning: detected Windows; aliasing chunkize to chunkize_serial\n",
      "  warnings.warn(\"detected Windows; aliasing chunkize to chunkize_serial\")\n"
     ]
    }
   ],
   "source": [
    "# LSA\n",
    "from gensim import corpora, models, similarities, matutils\n",
    "\n",
    "# Convert sparse matrix of counts to a gensim corpus\n",
    "# Need to transpose it for gensim which wants terms by docs instead of docs by terms\n",
    "tfidf_pos_corpus = matutils.Sparse2Corpus(pos_vectors.transpose())\n",
    "tfidf_neg_corpus = matutils.Sparse2Corpus(neg_vectors.transpose())\n",
    "\n",
    "# Row indices\n",
    "id2word_pos = dict((v,k) for k,v in tfidf_pos.vocabulary_.items())\n",
    "id2word_neg = dict((v,k) for k,v in tfidf_neg.vocabulary_.items())\n",
    "\n",
    "# This is a hack for Python 3!\n",
    "id2word_pos = corpora.Dictionary.from_corpus(tfidf_pos_corpus, id2word=id2word_pos)\n",
    "id2word_neg = corpora.Dictionary.from_corpus(tfidf_neg_corpus, id2word=id2word_neg)"
   ]
  },
  {
   "cell_type": "code",
   "execution_count": 16,
   "metadata": {},
   "outputs": [],
   "source": [
    "# create LSA model\n",
    "num_topics = 7\n",
    "lsi_pos = models.LsiModel(tfidf_pos_corpus, id2word=id2word_pos, num_topics=num_topics)\n",
    "lsi_neg = models.LsiModel(tfidf_neg_corpus, id2word=id2word_neg, num_topics=num_topics)"
   ]
  },
  {
   "cell_type": "code",
   "execution_count": 17,
   "metadata": {},
   "outputs": [
    {
     "data": {
      "image/png": "[encoded data removed]",
      "text/plain": [
       "<Figure size 864x360 with 1 Axes>"
      ]
     },
     "metadata": {},
     "output_type": "display_data"
    }
   ],
   "source": [
    "# elbow plot\n",
    "singular_values_pos = lsi_pos.projection.s.tolist()\n",
    "singular_values_pos_rel = [sv/singular_values_pos[-1] for sv in singular_values_pos]\n",
    "singular_values_neg = lsi_neg.projection.s.tolist()\n",
    "singular_values_neg_rel = [sv/singular_values_neg[-1] for sv in singular_values_neg]\n",
    "\n",
    "plt.style.use('fivethirtyeight')\n",
    "plt.figure(figsize=(12,5))\n",
    "plt.plot(range(len(singular_values_pos)), singular_values_pos_rel, label='Positive Reviews', alpha=1.0)\n",
    "plt.plot(range(len(singular_values_neg)), singular_values_neg_rel, label='Negative Reviews', alpha=0.7)\n",
    "plt.xticks(range(len(singular_values_pos)), range(len(singular_values_pos)))\n",
    "plt.xlabel('Topic #')\n",
    "plt.ylabel('Relative Strength')\n",
    "plt.title('LSI Topic Strengths (Relative)')\n",
    "plt.legend(loc=0, fontsize='medium');"
   ]
  },
  {
   "cell_type": "code",
   "execution_count": 18,
   "metadata": {},
   "outputs": [],
   "source": [
    "topics_to_print = 5"
   ]
  },
  {
   "cell_type": "code",
   "execution_count": 19,
   "metadata": {},
   "outputs": [
    {
     "name": "stdout",
     "output_type": "stream",
     "text": [
      "Top 5 topics for POSITIVE reviews\n",
      "---------------------------------\n",
      "[(0,\n",
      "  '0.251*\"great\" + 0.226*\"burger\" + 0.215*\"place\" + 0.184*\"service\" + '\n",
      "  '0.159*\"order\" + 0.142*\"time\" + 0.129*\"chicken\" + 0.127*\"vegas\" + '\n",
      "  '0.121*\"breakfast\" + 0.116*\"amazing\"'),\n",
      " (1,\n",
      "  '0.788*\"burger\" + 0.293*\"fries\" + -0.200*\"great\" + -0.182*\"breakfast\" + '\n",
      "  '-0.118*\"service\" + -0.102*\"place\" + 0.089*\"truffle\" + 0.087*\"shake\" + '\n",
      "  '0.074*\"cheese\" + -0.072*\"chicken\"'),\n",
      " (2,\n",
      "  '-0.579*\"great\" + 0.259*\"chicken\" + -0.217*\"burger\" + -0.212*\"service\" + '\n",
      "  '0.206*\"order\" + -0.136*\"awesome\" + -0.133*\"amazing\" + -0.130*\"place\" + '\n",
      "  '0.127*\"fried\" + -0.126*\"atmosphere\"'),\n",
      " (3,\n",
      "  '0.485*\"breakfast\" + -0.235*\"bar\" + 0.212*\"pancakes\" + 0.189*\"eggs\" + '\n",
      "  '-0.175*\"hour\" + -0.169*\"happy\" + -0.160*\"drinks\" + 0.158*\"burger\" + '\n",
      "  '0.134*\"chicken\" + -0.132*\"beer\"'),\n",
      " (4,\n",
      "  '-0.587*\"chicken\" + 0.348*\"breakfast\" + -0.291*\"great\" + -0.235*\"fried\" + '\n",
      "  '-0.197*\"waffles\" + 0.153*\"place\" + 0.148*\"pancakes\" + -0.135*\"salad\" + '\n",
      "  '0.111*\"wait\" + 0.096*\"time\"')]\n"
     ]
    }
   ],
   "source": [
    "# look at top positive topics\n",
    "print('Top %d topics for POSITIVE reviews' %(topics_to_print))\n",
    "print('-'*33)\n",
    "pprint(lsi_pos.show_topics()[0:topics_to_print])"
   ]
  },
  {
   "cell_type": "code",
   "execution_count": 20,
   "metadata": {},
   "outputs": [
    {
     "name": "stdout",
     "output_type": "stream",
     "text": [
      "Top 5 topics for NEGATIVE reviews\n",
      "---------------------------------\n",
      "[(0,\n",
      "  '0.241*\"order\" + 0.236*\"service\" + 0.193*\"place\" + 0.171*\"minutes\" + '\n",
      "  '0.161*\"time\" + 0.154*\"burger\" + 0.123*\"bad\" + 0.123*\"table\" + 0.119*\"took\" '\n",
      "  '+ 0.117*\"server\"'),\n",
      " (1,\n",
      "  '-0.653*\"burger\" + -0.255*\"fries\" + 0.222*\"minutes\" + 0.171*\"service\" + '\n",
      "  '0.127*\"table\" + -0.126*\"cheese\" + 0.124*\"waited\" + -0.117*\"chicken\" + '\n",
      "  '0.094*\"server\" + 0.083*\"manager\"'),\n",
      " (2,\n",
      "  '0.533*\"burger\" + 0.282*\"minutes\" + -0.208*\"buffet\" + -0.207*\"chicken\" + '\n",
      "  '-0.172*\"place\" + -0.170*\"breakfast\" + 0.156*\"order\" + 0.155*\"fries\" + '\n",
      "  '0.155*\"waited\" + 0.114*\"table\"'),\n",
      " (3,\n",
      "  '0.426*\"service\" + -0.367*\"order\" + -0.310*\"chicken\" + 0.248*\"horrible\" + '\n",
      "  '0.223*\"burger\" + 0.214*\"place\" + -0.128*\"salad\" + 0.126*\"bad\" + '\n",
      "  '0.124*\"terrible\" + 0.119*\"rude\"'),\n",
      " (4,\n",
      "  '-0.457*\"service\" + -0.312*\"horrible\" + -0.248*\"chicken\" + 0.206*\"bar\" + '\n",
      "  '-0.196*\"terrible\" + 0.175*\"place\" + -0.170*\"order\" + -0.137*\"cold\" + '\n",
      "  '0.132*\"people\" + -0.132*\"slow\"')]\n"
     ]
    }
   ],
   "source": [
    "\n",
    "# look at top negative topics\n",
    "print('Top %d topics for NEGATIVE reviews' %(topics_to_print))\n",
    "print('-'*33)\n",
    "pprint(lsi_neg.show_topics()[0:topics_to_print])"
   ]
  },
  {
   "cell_type": "code",
   "execution_count": 21,
   "metadata": {},
   "outputs": [
    {
     "name": "stdout",
     "output_type": "stream",
     "text": [
      "Wall time: 4.13 s\n"
     ]
    }
   ],
   "source": [
    "\n",
    "%%time\n",
    "# negative values in LSA topics are annoying\n",
    "# let's see if we can fix that with NMF\n",
    "from sklearn.decomposition import NMF\n",
    "\n",
    "# change num_topics\n",
    "num_topics = 6\n",
    "\n",
    "nmf_pos = NMF(n_components=num_topics)\n",
    "W_pos = nmf_pos.fit_transform(pos_vectors)\n",
    "H_pos = nmf_pos.components_\n",
    "\n",
    "nmf_neg = NMF(n_components=num_topics)\n",
    "W_neg = nmf_neg.fit_transform(neg_vectors)\n",
    "H_neg = nmf_neg.components_"
   ]
  },
  {
   "cell_type": "code",
   "execution_count": 22,
   "metadata": {},
   "outputs": [
    {
     "name": "stdout",
     "output_type": "stream",
     "text": [
      "Top topics + words for POSITIVE reviews\n",
      "---------------------------------------\n",
      "Topic 0:   1.093*order, 0.866*time, 0.693*bar, 0.641*pretty, 0.613*table, 0.595*restaurant\n",
      "Topic 1:   3.138*burger, 1.175*fries, 0.353*truffle, 0.345*shake, 0.319*cheese, 0.280*onion\n",
      "Topic 2:   2.827*great, 1.220*service, 0.492*atmosphere, 0.401*awesome, 0.341*excellent, 0.282*friendly\n",
      "Topic 3:   2.120*breakfast, 0.891*pancakes, 0.797*eggs, 0.492*toast, 0.446*coffee, 0.432*hash\n",
      "Topic 4:   2.266*chicken, 0.994*fried, 0.854*waffles, 0.442*salad, 0.317*cheese, 0.301*delicious\n",
      "Topic 5:   1.757*place, 1.338*love, 1.212*amazing, 0.770*vegas, 0.597*best, 0.542*staff\n",
      "\n",
      "Top topics + words for NEGATIVE reviews\n",
      "---------------------------------------\n",
      "Topic 0:   1.958*place, 0.958*bar, 0.648*people, 0.539*time, 0.538*bartender, 0.537*rude\n",
      "Topic 1:   3.092*burger, 1.065*fries, 0.334*cheese, 0.285*shake, 0.214*medium, 0.183*order\n",
      "Topic 2:   1.631*minutes, 1.432*order, 1.000*table, 0.866*waited, 0.842*took, 0.789*server\n",
      "Topic 3:   2.446*service, 1.305*horrible, 0.867*terrible, 0.638*bad, 0.604*slow, 0.527*customer\n",
      "Topic 4:   1.923*chicken, 0.849*order, 0.826*salad, 0.581*sandwich, 0.517*cheese, 0.505*fried\n",
      "Topic 5:   1.226*breakfast, 1.189*buffet, 0.742*eggs, 0.510*price, 0.443*vegas, 0.393*quality\n"
     ]
    }
   ],
   "source": [
    "def display_topics(model, feature_names, num_topics, no_top_words):\n",
    "    for topic_idx, topic in enumerate(model.components_):\n",
    "        if topic_idx < num_topics:\n",
    "            print(\"{:11}\".format(\"Topic %d:\" %(topic_idx)), end='')\n",
    "            print(\", \".join(['{:04.3f}*'.format(topic[i])+feature_names[i] \\\n",
    "                             for i in topic.argsort()[:-no_top_words-1:-1]]))\n",
    "\n",
    "no_topics = num_topics\n",
    "no_top_words = 6\n",
    "\n",
    "print('Top topics + words for POSITIVE reviews')\n",
    "print('-'*39)\n",
    "display_topics(nmf_pos, tfidf_pos.get_feature_names(), no_topics, no_top_words)\n",
    "\n",
    "print('\\nTop topics + words for NEGATIVE reviews')\n",
    "print('-'*39)\n",
    "display_topics(nmf_neg, tfidf_neg.get_feature_names(), no_topics, no_top_words)"
   ]
  },
  {
   "cell_type": "code",
   "execution_count": 23,
   "metadata": {},
   "outputs": [
    {
     "name": "stdout",
     "output_type": "stream",
     "text": [
      "3553\n",
      "Fantastic food, great price, great atmosphere, great service, HUGE portions of delicious hashes, benedicts, sandwiches and other treats. Biscuits with FRESH jam are unreal. The banana brown sugar flapjack was delicious. It was enormous and had a crispy crust of melted sugar on it like a crême bruleé with large slices of ripe banana in the batter...it was 15\" across! Corned beef hash was incredible. Even the coffee was excellent. High recommendation - I do not give 4 stars lightly.\n"
     ]
    }
   ],
   "source": [
    "# look at a random positive review\n",
    "review_num = np.random.randint(0, high=len(random_pos))\n",
    "print(review_num)\n",
    "print(random_pos[review_num])\n"
   ]
  },
  {
   "cell_type": "code",
   "execution_count": 24,
   "metadata": {},
   "outputs": [
    {
     "name": "stdout",
     "output_type": "stream",
     "text": [
      "5183\n",
      "Place is nice, people are nice but the food sucks balls .. no flavor whatsoever. Ordered the spinach dip and it taste so bad, the chicken fingers my sons order were hard to bite and stringy (double yuck) I would go just for the experience of those alcohol drinks. My husband order a bubbling drink and it taste like big o fountain soda but that was it. I wouldn't go back for the food that's for sure.  Oh their super fast to bring out the food like VERY fast.  We were shocked maybe that's why the food tasted so bad .. stale French fries found at Sugar factory\n"
     ]
    }
   ],
   "source": [
    "# look at a random negative review\n",
    "review_num = np.random.randint(0, high=len(random_neg))\n",
    "print(review_num)\n",
    "print(random_neg[review_num])\n"
   ]
  },
  {
   "cell_type": "code",
   "execution_count": 25,
   "metadata": {},
   "outputs": [],
   "source": [
    "\n",
    "# compute cosine similarities of this review with all other reviews in the new space\n",
    "import sklearn.metrics.pairwise as smp\n",
    "\n",
    "cosines = {}\n",
    "for ind, review in enumerate(W_pos):\n",
    "    similarity = smp.cosine_similarity(W_pos[review_num].reshape(1,-1), review.reshape(1,-1))\n",
    "    cosines[ind] = similarity[0][0]"
   ]
  },
  {
   "cell_type": "code",
   "execution_count": 26,
   "metadata": {},
   "outputs": [
    {
     "name": "stdout",
     "output_type": "stream",
     "text": [
      "--------------------------------------------------\n",
      ">> Similarity 1.000\n",
      "Great little joint. For a holiday weekend and only having one server for the entire restaurant she did a great job. Poor management for only scheduling only 1 until 830.\n",
      "--------------------------------------------------\n",
      ">> Similarity 1.000\n",
      "We had a great time here. We had a Groupon for $12 for $24. I've heard about the drinks here and was skeptical but they did not disappoint. John and Scott were GREAT help. John was very attentive to our needs and helped us decide on the Mai Tai goblet!! Yummy!! Definitely will dine here again.\n",
      "--------------------------------------------------\n",
      ">> Similarity 1.000\n",
      "Adorable !!!! Super eclectic inside. Great patio seating. Must see the patio in the back.\n",
      "--------------------------------------------------\n"
     ]
    }
   ],
   "source": [
    "\n",
    "# get top 3 matching reviews\n",
    "for n in sorted(cosines, key=cosines.get, reverse=True)[1:4]:\n",
    "    print('-'*50)\n",
    "    print('>> Similarity {:.3f}'.format(cosines[n]))\n",
    "    print(random_pos[n])\n",
    "print('-'*50)"
   ]
  },
  {
   "cell_type": "code",
   "execution_count": 27,
   "metadata": {},
   "outputs": [],
   "source": [
    "from sklearn.feature_extraction.text import CountVectorizer\n",
    "\n",
    "# Create a vectorizer object to generate term document counts\n",
    "cv_pos = CountVectorizer(stop_words=stop_words, min_df=10, max_df=0.5, \n",
    "                        ngram_range=(1,1), token_pattern='[a-z][a-z]+')\n",
    "\n",
    "cv_neg = CountVectorizer(stop_words=stop_words, min_df=10, max_df=0.5, \n",
    "                        ngram_range=(1,1), token_pattern='[a-z][a-z]+')\n",
    "\n",
    "# Get random subset of reviews\n",
    "np.random.seed(38)\n",
    "num_reviews = 15000\n",
    "cv_random_neg = np.random.choice(neg_reviews, size=num_reviews)\n",
    "cv_random_pos = np.random.choice(pos_reviews, size=num_reviews)\n",
    "\n",
    "# replace words from defined dictionary 'dicty'\n",
    "cv_random_neg = [replace_words(w, dicty) for w in cv_random_neg]\n",
    "cv_random_pos = [replace_words(w, dicty) for w in cv_random_pos]\n",
    "\n",
    "# Get the cv vectors\n",
    "cv_neg_vectors = cv_neg.fit_transform(cv_random_neg).transpose()\n",
    "cv_pos_vectors = cv_pos.fit_transform(cv_random_pos).transpose()"
   ]
  },
  {
   "cell_type": "code",
   "execution_count": 28,
   "metadata": {},
   "outputs": [],
   "source": [
    "# Convert sparse matrix of counts to a gensim corpus\n",
    "corpus_neg = matutils.Sparse2Corpus(cv_neg_vectors)\n",
    "corpus_pos = matutils.Sparse2Corpus(cv_pos_vectors)\n",
    "\n",
    "# save a mapping (dict) of row id to word (token) for later use by gensim \n",
    "id2word_cv_pos = dict((v, k) for k, v in cv_pos.vocabulary_.items())\n",
    "id2word_cv_neg = dict((v, k) for k, v in cv_neg.vocabulary_.items())"
   ]
  },
  {
   "cell_type": "code",
   "execution_count": 29,
   "metadata": {},
   "outputs": [
    {
     "name": "stdout",
     "output_type": "stream",
     "text": [
      "Wall time: 1min 52s\n"
     ]
    }
   ],
   "source": [
    "%%time\n",
    "# create lda multicore model\n",
    "lda_pos = models.ldamulticore.LdaMulticore(corpus=corpus_pos, num_topics=5, \n",
    "                                           id2word=id2word_cv_pos, passes=10, workers=15)\n",
    "lda_neg = models.ldamulticore.LdaMulticore(corpus=corpus_neg, num_topics=5, \n",
    "                                           id2word=id2word_cv_neg, passes=10, workers=15)"
   ]
  },
  {
   "cell_type": "code",
   "execution_count": 30,
   "metadata": {},
   "outputs": [
    {
     "name": "stdout",
     "output_type": "stream",
     "text": [
      "Top topics + words for POSITIVE reviews\n",
      "---------------------------------------\n",
      "[(0,\n",
      "  '0.010*\"great\" + 0.009*\"order\" + 0.007*\"delicious\" + 0.007*\"place\" + '\n",
      "  '0.006*\"menu\" + 0.006*\"sauce\" + 0.006*\"chicken\"'),\n",
      " (1,\n",
      "  '0.015*\"service\" + 0.013*\"great\" + 0.012*\"order\" + 0.009*\"place\" + '\n",
      "  '0.008*\"chicken\" + 0.008*\"time\" + 0.007*\"vegas\"'),\n",
      " (2,\n",
      "  '0.017*\"place\" + 0.017*\"breakfast\" + 0.013*\"great\" + 0.010*\"order\" + '\n",
      "  '0.009*\"service\" + 0.009*\"wait\" + 0.009*\"time\"'),\n",
      " (3,\n",
      "  '0.021*\"great\" + 0.019*\"place\" + 0.013*\"service\" + 0.010*\"bar\" + '\n",
      "  '0.010*\"time\" + 0.008*\"drinks\" + 0.007*\"nice\"'),\n",
      " (4,\n",
      "  '0.047*\"burger\" + 0.021*\"fries\" + 0.013*\"order\" + 0.010*\"place\" + '\n",
      "  '0.009*\"cheese\" + 0.008*\"great\" + 0.007*\"time\"')]\n",
      "\n",
      "Top topics + words for NEGATIVE reviews\n",
      "---------------------------------------\n",
      "[(0,\n",
      "  '0.020*\"service\" + 0.012*\"minutes\" + 0.011*\"time\" + 0.011*\"manager\" + '\n",
      "  '0.010*\"server\" + 0.010*\"order\" + 0.010*\"asked\"'),\n",
      " (1,\n",
      "  '0.019*\"place\" + 0.017*\"service\" + 0.009*\"bad\" + 0.008*\"order\" + '\n",
      "  '0.007*\"chicken\" + 0.007*\"time\" + 0.006*\"eat\"'),\n",
      " (2,\n",
      "  '0.017*\"burger\" + 0.016*\"order\" + 0.010*\"fries\" + 0.009*\"place\" + '\n",
      "  '0.008*\"chicken\" + 0.007*\"cheese\" + 0.006*\"salad\"'),\n",
      " (3,\n",
      "  '0.027*\"order\" + 0.018*\"place\" + 0.014*\"service\" + 0.013*\"minutes\" + '\n",
      "  '0.010*\"time\" + 0.009*\"burger\" + 0.008*\"bar\"'),\n",
      " (4,\n",
      "  '0.013*\"order\" + 0.012*\"service\" + 0.011*\"place\" + 0.010*\"time\" + '\n",
      "  '0.007*\"buffet\" + 0.007*\"breakfast\" + 0.007*\"people\"')]\n"
     ]
    }
   ],
   "source": [
    "print('Top topics + words for POSITIVE reviews')\n",
    "print('-'*39)\n",
    "pprint(lda_pos.print_topics(num_words=7))\n",
    "\n",
    "print('\\nTop topics + words for NEGATIVE reviews')\n",
    "print('-'*39)\n",
    "pprint(lda_neg.print_topics(num_words=7))"
   ]
  },
  {
   "cell_type": "markdown",
   "metadata": {},
   "source": [
    "## Continuing with NMF"
   ]
  },
  {
   "cell_type": "code",
   "execution_count": 31,
   "metadata": {},
   "outputs": [
    {
     "name": "stdout",
     "output_type": "stream",
     "text": [
      "Top topics + words for POSITIVE reviews\n",
      "---------------------------------------\n",
      "Topic 0:   1.093*order, 0.866*time, 0.693*bar, 0.641*pretty, 0.613*table, 0.595*restaurant\n",
      "Topic 1:   3.138*burger, 1.175*fries, 0.353*truffle, 0.345*shake, 0.319*cheese, 0.280*onion\n",
      "Topic 2:   2.827*great, 1.220*service, 0.492*atmosphere, 0.401*awesome, 0.341*excellent, 0.282*friendly\n",
      "Topic 3:   2.120*breakfast, 0.891*pancakes, 0.797*eggs, 0.492*toast, 0.446*coffee, 0.432*hash\n",
      "Topic 4:   2.266*chicken, 0.994*fried, 0.854*waffles, 0.442*salad, 0.317*cheese, 0.301*delicious\n",
      "Topic 5:   1.757*place, 1.338*love, 1.212*amazing, 0.770*vegas, 0.597*best, 0.542*staff\n"
     ]
    }
   ],
   "source": [
    "# let's remind ourselves of the POSITIVE topics\n",
    "print('Top topics + words for POSITIVE reviews')\n",
    "print('-'*39)\n",
    "display_topics(nmf_pos, tfidf_pos.get_feature_names(), no_topics, no_top_words)"
   ]
  },
  {
   "cell_type": "code",
   "execution_count": 32,
   "metadata": {},
   "outputs": [
    {
     "name": "stdout",
     "output_type": "stream",
     "text": [
      "Positive Review #254\n",
      "-------------------------\n",
      "Big portion plates!\r\n",
      "Great food!\r\n",
      "The lounge is relaxing and their alcoholic drinks are good!\r\n",
      "I always have to make a stop here when I'm in Vegas\n",
      "-------------------------\n",
      "Topic 2: 0.0348\n",
      "Topic 0: 0.0118\n",
      "Topic 5: 0.0113\n",
      "Topic 4: 0.0026\n",
      "Topic 3: 0.0019\n",
      "Topic 1: 0.0000\n"
     ]
    }
   ],
   "source": [
    "# we can investigate a random positive review and see how it's distributed across those topics\n",
    "review_num = np.random.randint(0, high=len(random_pos))\n",
    "print('Positive Review #%d' %review_num)\n",
    "print('-'*25)\n",
    "print(random_pos[review_num])\n",
    "print('-'*25)\n",
    "topic_dict = {}\n",
    "for ind, w in enumerate(W_pos[review_num]):\n",
    "    topic_dict[ind] = w\n",
    "for k in sorted(topic_dict, key=topic_dict.get, reverse=True):\n",
    "     print('Topic {}: {:.4f}'.format(k, topic_dict[k]))"
   ]
  },
  {
   "cell_type": "code",
   "execution_count": 33,
   "metadata": {},
   "outputs": [
    {
     "name": "stdout",
     "output_type": "stream",
     "text": [
      "Top topics + words for NEGATIVE reviews\n",
      "---------------------------------------\n",
      "Topic 0:   1.958*place, 0.958*bar, 0.648*people, 0.539*time, 0.538*bartender, 0.537*rude\n",
      "Topic 1:   3.092*burger, 1.065*fries, 0.334*cheese, 0.285*shake, 0.214*medium, 0.183*order\n",
      "Topic 2:   1.631*minutes, 1.432*order, 1.000*table, 0.866*waited, 0.842*took, 0.789*server\n",
      "Topic 3:   2.446*service, 1.305*horrible, 0.867*terrible, 0.638*bad, 0.604*slow, 0.527*customer\n",
      "Topic 4:   1.923*chicken, 0.849*order, 0.826*salad, 0.581*sandwich, 0.517*cheese, 0.505*fried\n",
      "Topic 5:   1.226*breakfast, 1.189*buffet, 0.742*eggs, 0.510*price, 0.443*vegas, 0.393*quality\n"
     ]
    }
   ],
   "source": [
    "print('Top topics + words for NEGATIVE reviews')\n",
    "print('-'*39)\n",
    "display_topics(nmf_neg, tfidf_neg.get_feature_names(), no_topics, no_top_words)"
   ]
  },
  {
   "cell_type": "code",
   "execution_count": 34,
   "metadata": {},
   "outputs": [
    {
     "name": "stdout",
     "output_type": "stream",
     "text": [
      "Negative Review #14937\n",
      "-------------------------\n",
      "The most impressive thing about this restaurant is the decor. Beautifully decorated, swanky bar, eye catching touches everywhere but unfortunately, that's where it ends. Everything is else is lackluster. \r\n",
      "\r\n",
      "The service isn't good. They all look like they'd rather be somewhere else. Our busser was more attentive than our waiter. He never delivered the dishes or checked on our food but he popped up every 30 seconds to pick up the signed check. For these price you would think they would bring it with either service or food but the food was pretty average too. It reminds me of a high end cafe. I had a three course meal and there isn't one thing that stood out. The beet salad was blah and our apple crostata came with no ice cream and was so thick all you tasted was dough. When you're not delicate or rush pastry, it shows. I think the most disappointing part of our meal was having to eat around cigarette smokers on nearby tables (using the restaurant cups for ashtrays). It's gross having someone blow smoke when you're trying to take a bite and I don't know if it was allowed but no staff said anything and they were very aware of it. Judging by the loud EDM music, I think they are trying to cater to a younger, club crowd. Awkward for families and a romantic date.\n",
      "-------------------------\n",
      "Topic 0: 0.0286\n",
      "Topic 4: 0.0172\n",
      "Topic 3: 0.0148\n",
      "Topic 5: 0.0136\n",
      "Topic 2: 0.0054\n",
      "Topic 1: 0.0000\n"
     ]
    }
   ],
   "source": [
    "# now investigate a random negative review and see how it's distributed across those topics\n",
    "review_num = np.random.randint(0, high=len(random_neg))\n",
    "print('Negative Review #%d' %review_num)\n",
    "print('-'*25)\n",
    "print(random_neg[review_num])\n",
    "print('-'*25)\n",
    "topic_dict = {}\n",
    "for ind, w in enumerate(W_neg[review_num]):\n",
    "    topic_dict[ind] = w\n",
    "for k in sorted(topic_dict, key=topic_dict.get, reverse=True):\n",
    "     print('Topic {}: {:.4f}'.format(k, topic_dict[k]))"
   ]
  },
  {
   "cell_type": "markdown",
   "metadata": {},
   "source": [
    "## Topic Modeling All Reviews \n",
    "At this point, we can see that our topics are relatively interpretable and match along with the reviews they're trying to categorize. Let's proceed with topic modeling all reviews and businesses using NMF."
   ]
  },
  {
   "cell_type": "code",
   "execution_count": 35,
   "metadata": {},
   "outputs": [
    {
     "name": "stdout",
     "output_type": "stream",
     "text": [
      "Postive Reviews:  182,678\n",
      "Negative Reviews:  28,209\n"
     ]
    }
   ],
   "source": [
    "print('Postive Reviews:  {:,}'.format(len(pos_reviews)))\n",
    "print('Negative Reviews:  {:,}'.format(len(neg_reviews)))"
   ]
  },
  {
   "cell_type": "code",
   "execution_count": 36,
   "metadata": {},
   "outputs": [
    {
     "name": "stdout",
     "output_type": "stream",
     "text": [
      "Wall time: 13.3 s\n"
     ]
    }
   ],
   "source": [
    "%%time\n",
    "# Create a vectorizer object to generate term document counts\n",
    "tfidf_pos = TfidfVectorizer(stop_words=stop_words, min_df=10, max_df=0.5, \n",
    "                        ngram_range=(1,1), token_pattern='[a-z][a-z]+')\n",
    "\n",
    "tfidf_neg = TfidfVectorizer(stop_words=stop_words, min_df=10, max_df=0.5, \n",
    "                        ngram_range=(1,1), token_pattern='[a-z][a-z]+')\n",
    "\n",
    "# replace words with defined dictionary 'dicty'\n",
    "pos_reviews = [replace_words(w, dicty) for w in pos_reviews]\n",
    "neg_reviews = [replace_words(w, dicty) for w in neg_reviews]\n",
    "\n",
    "# Get the vectors\n",
    "neg_vectors = tfidf_neg.fit_transform(neg_reviews)\n",
    "pos_vectors = tfidf_pos.fit_transform(pos_reviews)"
   ]
  },
  {
   "cell_type": "code",
   "execution_count": 37,
   "metadata": {},
   "outputs": [
    {
     "name": "stdout",
     "output_type": "stream",
     "text": [
      "Wall time: 13.1 s\n"
     ]
    }
   ],
   "source": [
    "%%time\n",
    "# NMF for all reviews\n",
    "from sklearn.decomposition import NMF\n",
    "\n",
    "# change num_topics\n",
    "num_topics = 6\n",
    "\n",
    "nmf_pos = NMF(n_components=num_topics)\n",
    "W_pos = nmf_pos.fit_transform(pos_vectors)\n",
    "H_pos = nmf_pos.components_\n",
    "\n",
    "nmf_neg = NMF(n_components=num_topics)\n",
    "W_neg = nmf_neg.fit_transform(neg_vectors)\n",
    "H_neg = nmf_neg.components_"
   ]
  },
  {
   "cell_type": "code",
   "execution_count": 38,
   "metadata": {},
   "outputs": [
    {
     "name": "stdout",
     "output_type": "stream",
     "text": [
      "Topics for POSITIVE reviews\n",
      "---------------------------------------\n",
      "Topic 0:   2.003*order, 1.439*time, 1.125*bar, 1.089*pretty, 1.039*table, 0.994*restaurant\n",
      "Topic 1:   5.383*burger, 2.012*fries, 0.622*shake, 0.592*cheese, 0.583*truffle, 0.463*onion\n",
      "Topic 2:   4.819*great, 2.052*service, 0.730*atmosphere, 0.579*excellent, 0.571*awesome, 0.424*price\n",
      "Topic 3:   3.577*breakfast, 1.454*pancakes, 1.385*eggs, 0.864*toast, 0.740*coffee, 0.732*hash\n",
      "Topic 4:   3.777*chicken, 1.638*fried, 1.417*waffles, 0.691*salad, 0.625*cheese, 0.559*sandwich\n",
      "Topic 5:   2.922*place, 1.898*love, 1.844*amazing, 1.397*vegas, 1.186*staff, 1.186*best\n",
      "\n",
      "Topics for NEGATIVE reviews\n",
      "---------------------------------------\n",
      "Topic 0:   1.950*place, 1.101*bar, 0.737*time, 0.715*people, 0.589*bartender, 0.573*night\n",
      "Topic 1:   3.235*burger, 1.186*fries, 0.382*cheese, 0.349*shake, 0.219*medium, 0.194*shack\n",
      "Topic 2:   1.808*minutes, 1.617*order, 1.037*table, 0.943*took, 0.916*waited, 0.867*server\n",
      "Topic 3:   1.930*chicken, 0.847*salad, 0.813*order, 0.586*sandwich, 0.515*cheese, 0.486*fried\n",
      "Topic 4:   2.590*service, 1.251*horrible, 0.867*terrible, 0.775*bad, 0.662*slow, 0.560*customer\n",
      "Topic 5:   1.422*breakfast, 1.325*buffet, 0.828*eggs, 0.526*price, 0.448*coffee, 0.444*vegas\n"
     ]
    }
   ],
   "source": [
    "no_topics = num_topics\n",
    "no_top_words = 6\n",
    "\n",
    "print('Topics for POSITIVE reviews')\n",
    "print('-'*39)\n",
    "display_topics(nmf_pos, tfidf_pos.get_feature_names(), no_topics, no_top_words)\n",
    "\n",
    "print('\\nTopics for NEGATIVE reviews')\n",
    "print('-'*39)\n",
    "display_topics(nmf_neg, tfidf_neg.get_feature_names(), no_topics, no_top_words)"
   ]
  },
  {
   "cell_type": "code",
   "execution_count": 39,
   "metadata": {},
   "outputs": [],
   "source": [
    "# create topic dictionaries to summarize the topic meanings\n",
    "pos_topics = {0:'order/time', 1:'burger/fries', 2:'service/atmosphere', \n",
    "              3:'breakfast/pancakes', 4:'chicken/waffles', 5:'location/atmosphere'}\n",
    "\n",
    "neg_topics = {0:'location/bar', 1:'burger/fries', 2:'waiting_time', \n",
    "              3:'chicken/salad', 4:'bad_service', 5:'breakfast/price'}"
   ]
  },
  {
   "cell_type": "markdown",
   "metadata": {},
   "source": [
    "## Adding Topic Weights to Pandas DataFrame"
   ]
  },
  {
   "cell_type": "code",
   "execution_count": 40,
   "metadata": {},
   "outputs": [],
   "source": [
    "# we create dataframes for positive & negative reviews that we can\n",
    "# later add topic information to\n",
    "df_pos = reviews_df[['business_id', 'stars', 'text', 'review_length']][reviews_df.stars>3].reset_index()\n",
    "df_neg = reviews_df[['business_id', 'stars', 'text', 'review_length']][reviews_df.stars<3].reset_index()\n",
    "df_pos.drop(labels='index', axis=1, inplace=True)\n",
    "df_neg.drop(labels='index', axis=1, inplace=True)"
   ]
  },
  {
   "cell_type": "code",
   "execution_count": 41,
   "metadata": {},
   "outputs": [
    {
     "name": "stdout",
     "output_type": "stream",
     "text": [
      "Topic weights :  [0.00733115 0.         0.         0.         0.00096004 0.01346228]\n",
      "Sum of weights:  0.021753477216583453\n"
     ]
    }
   ],
   "source": [
    "print('Topic weights : ', W_pos[0])\n",
    "print('Sum of weights: ', W_pos[0].sum())"
   ]
  },
  {
   "cell_type": "code",
   "execution_count": 42,
   "metadata": {},
   "outputs": [
    {
     "name": "stdout",
     "output_type": "stream",
     "text": [
      "Normalized Topic weights :  [[0.33701062 0.         0.         0.         0.04413286 0.61885652]]\n",
      "Sum of normalized weights:  1.0\n"
     ]
    }
   ],
   "source": [
    "from sklearn.preprocessing import normalize\n",
    "print('Normalized Topic weights : ', normalize(W_pos[0].reshape(1,-1), norm='l1'))\n",
    "print('Sum of normalized weights: ', normalize(W_pos[0].reshape(1,-1), norm='l1').sum())"
   ]
  },
  {
   "cell_type": "code",
   "execution_count": 43,
   "metadata": {},
   "outputs": [],
   "source": [
    "# add normalized topic weights to each review\n",
    "df_pos = pd.concat([df_pos, pd.DataFrame(normalize(W_pos, norm='l1'))], axis=1)\n",
    "df_neg = pd.concat([df_neg, pd.DataFrame(normalize(W_neg, norm='l1'))], axis=1)"
   ]
  },
  {
   "cell_type": "code",
   "execution_count": 44,
   "metadata": {},
   "outputs": [
    {
     "data": {
      "text/html": [
       "<div>\n",
       "<style scoped>\n",
       "    .dataframe tbody tr th:only-of-type {\n",
       "        vertical-align: middle;\n",
       "    }\n",
       "\n",
       "    .dataframe tbody tr th {\n",
       "        vertical-align: top;\n",
       "    }\n",
       "\n",
       "    .dataframe thead th {\n",
       "        text-align: right;\n",
       "    }\n",
       "</style>\n",
       "<table border=\"1\" class=\"dataframe\">\n",
       "  <thead>\n",
       "    <tr style=\"text-align: right;\">\n",
       "      <th></th>\n",
       "      <th>business_id</th>\n",
       "      <th>stars</th>\n",
       "      <th>text</th>\n",
       "      <th>review_length</th>\n",
       "      <th>0</th>\n",
       "      <th>1</th>\n",
       "      <th>2</th>\n",
       "      <th>3</th>\n",
       "      <th>4</th>\n",
       "      <th>5</th>\n",
       "    </tr>\n",
       "  </thead>\n",
       "  <tbody>\n",
       "    <tr>\n",
       "      <th>0</th>\n",
       "      <td>jtQARsP6P-LbkyjbO1qNGg</td>\n",
       "      <td>1.0</td>\n",
       "      <td>Terrible. Dry corn bread. Rib tips were all fa...</td>\n",
       "      <td>156</td>\n",
       "      <td>0.000802</td>\n",
       "      <td>0.058268</td>\n",
       "      <td>0.000000</td>\n",
       "      <td>0.611918</td>\n",
       "      <td>0.195864</td>\n",
       "      <td>0.133147</td>\n",
       "    </tr>\n",
       "    <tr>\n",
       "      <th>1</th>\n",
       "      <td>faPVqws-x-5k2CQKDNtHxw</td>\n",
       "      <td>1.0</td>\n",
       "      <td>People please...the only good thing about this...</td>\n",
       "      <td>622</td>\n",
       "      <td>0.376794</td>\n",
       "      <td>0.041870</td>\n",
       "      <td>0.199076</td>\n",
       "      <td>0.337674</td>\n",
       "      <td>0.000000</td>\n",
       "      <td>0.044587</td>\n",
       "    </tr>\n",
       "    <tr>\n",
       "      <th>2</th>\n",
       "      <td>ZtsnwjxjzMUI6tDZNrJUeA</td>\n",
       "      <td>1.0</td>\n",
       "      <td>If there was an option to give this place nega...</td>\n",
       "      <td>734</td>\n",
       "      <td>0.610305</td>\n",
       "      <td>0.000000</td>\n",
       "      <td>0.271824</td>\n",
       "      <td>0.007311</td>\n",
       "      <td>0.110560</td>\n",
       "      <td>0.000000</td>\n",
       "    </tr>\n",
       "    <tr>\n",
       "      <th>3</th>\n",
       "      <td>NvKNe9DnQavC9GstglcBJQ</td>\n",
       "      <td>1.0</td>\n",
       "      <td>My friends and I went into Grand Lux Cafe at t...</td>\n",
       "      <td>580</td>\n",
       "      <td>0.033947</td>\n",
       "      <td>0.246751</td>\n",
       "      <td>0.501850</td>\n",
       "      <td>0.000000</td>\n",
       "      <td>0.217452</td>\n",
       "      <td>0.000000</td>\n",
       "    </tr>\n",
       "    <tr>\n",
       "      <th>4</th>\n",
       "      <td>jdAdf7keZac1idbgNKG2pw</td>\n",
       "      <td>1.0</td>\n",
       "      <td>Went with my daughter tonight and was refused ...</td>\n",
       "      <td>500</td>\n",
       "      <td>0.233010</td>\n",
       "      <td>0.724579</td>\n",
       "      <td>0.000000</td>\n",
       "      <td>0.000000</td>\n",
       "      <td>0.000000</td>\n",
       "      <td>0.042411</td>\n",
       "    </tr>\n",
       "  </tbody>\n",
       "</table>\n",
       "</div>"
      ],
      "text/plain": [
       "              business_id  stars  \\\n",
       "0  jtQARsP6P-LbkyjbO1qNGg    1.0   \n",
       "1  faPVqws-x-5k2CQKDNtHxw    1.0   \n",
       "2  ZtsnwjxjzMUI6tDZNrJUeA    1.0   \n",
       "3  NvKNe9DnQavC9GstglcBJQ    1.0   \n",
       "4  jdAdf7keZac1idbgNKG2pw    1.0   \n",
       "\n",
       "                                                text  review_length         0  \\\n",
       "0  Terrible. Dry corn bread. Rib tips were all fa...            156  0.000802   \n",
       "1  People please...the only good thing about this...            622  0.376794   \n",
       "2  If there was an option to give this place nega...            734  0.610305   \n",
       "3  My friends and I went into Grand Lux Cafe at t...            580  0.033947   \n",
       "4  Went with my daughter tonight and was refused ...            500  0.233010   \n",
       "\n",
       "          1         2         3         4         5  \n",
       "0  0.058268  0.000000  0.611918  0.195864  0.133147  \n",
       "1  0.041870  0.199076  0.337674  0.000000  0.044587  \n",
       "2  0.000000  0.271824  0.007311  0.110560  0.000000  \n",
       "3  0.246751  0.501850  0.000000  0.217452  0.000000  \n",
       "4  0.724579  0.000000  0.000000  0.000000  0.042411  "
      ]
     },
     "execution_count": 44,
     "metadata": {},
     "output_type": "execute_result"
    }
   ],
   "source": [
    "# peek into a dataframe to ensure it worked right\n",
    "df_neg.head()"
   ]
  },
  {
   "cell_type": "code",
   "execution_count": 45,
   "metadata": {},
   "outputs": [],
   "source": [
    "# group by business_id and apply mean/count functions to columns\n",
    "df_pos_bsns = df_pos.groupby('business_id').agg({'stars':'mean', 'text':'count',\n",
    "                                                 'review_length':'mean',0:'mean', \n",
    "                                                 1:'mean', 2:'mean', 3:'mean',\n",
    "                                                 4:'mean', 5:'mean'}).reset_index()\n",
    "df_neg_bsns = df_neg.groupby('business_id').agg({'stars':'mean', 'text':'count',\n",
    "                                                 'review_length':'mean',0:'mean', \n",
    "                                                 1:'mean', 2:'mean', 3:'mean',\n",
    "                                                 4:'mean', 5:'mean'}).reset_index()"
   ]
  },
  {
   "cell_type": "code",
   "execution_count": 46,
   "metadata": {},
   "outputs": [
    {
     "data": {
      "text/html": [
       "<div>\n",
       "<style scoped>\n",
       "    .dataframe tbody tr th:only-of-type {\n",
       "        vertical-align: middle;\n",
       "    }\n",
       "\n",
       "    .dataframe tbody tr th {\n",
       "        vertical-align: top;\n",
       "    }\n",
       "\n",
       "    .dataframe thead th {\n",
       "        text-align: right;\n",
       "    }\n",
       "</style>\n",
       "<table border=\"1\" class=\"dataframe\">\n",
       "  <thead>\n",
       "    <tr style=\"text-align: right;\">\n",
       "      <th></th>\n",
       "      <th>business_id</th>\n",
       "      <th>stars</th>\n",
       "      <th>text</th>\n",
       "      <th>review_length</th>\n",
       "      <th>0</th>\n",
       "      <th>1</th>\n",
       "      <th>2</th>\n",
       "      <th>3</th>\n",
       "      <th>4</th>\n",
       "      <th>5</th>\n",
       "    </tr>\n",
       "  </thead>\n",
       "  <tbody>\n",
       "    <tr>\n",
       "      <th>0</th>\n",
       "      <td>-CQokjildrY7UZezXCdEBw</td>\n",
       "      <td>4.875000</td>\n",
       "      <td>40</td>\n",
       "      <td>743.800000</td>\n",
       "      <td>0.228314</td>\n",
       "      <td>0.097026</td>\n",
       "      <td>0.197794</td>\n",
       "      <td>0.149700</td>\n",
       "      <td>0.094563</td>\n",
       "      <td>0.232603</td>\n",
       "    </tr>\n",
       "    <tr>\n",
       "      <th>1</th>\n",
       "      <td>-JfncbVURtvuzBbof40o1w</td>\n",
       "      <td>4.176471</td>\n",
       "      <td>34</td>\n",
       "      <td>556.735294</td>\n",
       "      <td>0.381605</td>\n",
       "      <td>0.087654</td>\n",
       "      <td>0.158816</td>\n",
       "      <td>0.089324</td>\n",
       "      <td>0.067062</td>\n",
       "      <td>0.215538</td>\n",
       "    </tr>\n",
       "    <tr>\n",
       "      <th>2</th>\n",
       "      <td>-OEIW0dO96-492qa_luxaw</td>\n",
       "      <td>4.557143</td>\n",
       "      <td>210</td>\n",
       "      <td>669.052381</td>\n",
       "      <td>0.258139</td>\n",
       "      <td>0.081709</td>\n",
       "      <td>0.178006</td>\n",
       "      <td>0.134155</td>\n",
       "      <td>0.129887</td>\n",
       "      <td>0.218103</td>\n",
       "    </tr>\n",
       "    <tr>\n",
       "      <th>3</th>\n",
       "      <td>-PGsEXB6DFTVKa1eDOlzWA</td>\n",
       "      <td>4.660550</td>\n",
       "      <td>109</td>\n",
       "      <td>459.532110</td>\n",
       "      <td>0.251629</td>\n",
       "      <td>0.101541</td>\n",
       "      <td>0.212126</td>\n",
       "      <td>0.118247</td>\n",
       "      <td>0.096253</td>\n",
       "      <td>0.220204</td>\n",
       "    </tr>\n",
       "    <tr>\n",
       "      <th>4</th>\n",
       "      <td>-SGZcGqnsp_uRIjKP2RGZg</td>\n",
       "      <td>4.666667</td>\n",
       "      <td>6</td>\n",
       "      <td>343.666667</td>\n",
       "      <td>0.213280</td>\n",
       "      <td>0.016076</td>\n",
       "      <td>0.433839</td>\n",
       "      <td>0.139536</td>\n",
       "      <td>0.032799</td>\n",
       "      <td>0.164471</td>\n",
       "    </tr>\n",
       "  </tbody>\n",
       "</table>\n",
       "</div>"
      ],
      "text/plain": [
       "              business_id     stars  text  review_length         0         1  \\\n",
       "0  -CQokjildrY7UZezXCdEBw  4.875000    40     743.800000  0.228314  0.097026   \n",
       "1  -JfncbVURtvuzBbof40o1w  4.176471    34     556.735294  0.381605  0.087654   \n",
       "2  -OEIW0dO96-492qa_luxaw  4.557143   210     669.052381  0.258139  0.081709   \n",
       "3  -PGsEXB6DFTVKa1eDOlzWA  4.660550   109     459.532110  0.251629  0.101541   \n",
       "4  -SGZcGqnsp_uRIjKP2RGZg  4.666667     6     343.666667  0.213280  0.016076   \n",
       "\n",
       "          2         3         4         5  \n",
       "0  0.197794  0.149700  0.094563  0.232603  \n",
       "1  0.158816  0.089324  0.067062  0.215538  \n",
       "2  0.178006  0.134155  0.129887  0.218103  \n",
       "3  0.212126  0.118247  0.096253  0.220204  \n",
       "4  0.433839  0.139536  0.032799  0.164471  "
      ]
     },
     "execution_count": 46,
     "metadata": {},
     "output_type": "execute_result"
    }
   ],
   "source": [
    "df_pos_bsns.head()"
   ]
  },
  {
   "cell_type": "code",
   "execution_count": 47,
   "metadata": {},
   "outputs": [
    {
     "data": {
      "text/html": [
       "<div>\n",
       "<style scoped>\n",
       "    .dataframe tbody tr th:only-of-type {\n",
       "        vertical-align: middle;\n",
       "    }\n",
       "\n",
       "    .dataframe tbody tr th {\n",
       "        vertical-align: top;\n",
       "    }\n",
       "\n",
       "    .dataframe thead th {\n",
       "        text-align: right;\n",
       "    }\n",
       "</style>\n",
       "<table border=\"1\" class=\"dataframe\">\n",
       "  <thead>\n",
       "    <tr style=\"text-align: right;\">\n",
       "      <th></th>\n",
       "      <th>business_id</th>\n",
       "      <th>stars</th>\n",
       "      <th>text</th>\n",
       "      <th>review_length</th>\n",
       "      <th>0</th>\n",
       "      <th>1</th>\n",
       "      <th>2</th>\n",
       "      <th>3</th>\n",
       "      <th>4</th>\n",
       "      <th>5</th>\n",
       "    </tr>\n",
       "  </thead>\n",
       "  <tbody>\n",
       "    <tr>\n",
       "      <th>0</th>\n",
       "      <td>-CQokjildrY7UZezXCdEBw</td>\n",
       "      <td>2.000000</td>\n",
       "      <td>1</td>\n",
       "      <td>1657.000000</td>\n",
       "      <td>0.444163</td>\n",
       "      <td>0.000000</td>\n",
       "      <td>0.191896</td>\n",
       "      <td>0.130308</td>\n",
       "      <td>0.233632</td>\n",
       "      <td>0.000000</td>\n",
       "    </tr>\n",
       "    <tr>\n",
       "      <th>1</th>\n",
       "      <td>-JfncbVURtvuzBbof40o1w</td>\n",
       "      <td>1.430769</td>\n",
       "      <td>65</td>\n",
       "      <td>642.630769</td>\n",
       "      <td>0.248158</td>\n",
       "      <td>0.142531</td>\n",
       "      <td>0.177165</td>\n",
       "      <td>0.159990</td>\n",
       "      <td>0.153210</td>\n",
       "      <td>0.118944</td>\n",
       "    </tr>\n",
       "    <tr>\n",
       "      <th>2</th>\n",
       "      <td>-OEIW0dO96-492qa_luxaw</td>\n",
       "      <td>1.363636</td>\n",
       "      <td>33</td>\n",
       "      <td>841.121212</td>\n",
       "      <td>0.200100</td>\n",
       "      <td>0.137036</td>\n",
       "      <td>0.197750</td>\n",
       "      <td>0.163034</td>\n",
       "      <td>0.135724</td>\n",
       "      <td>0.166354</td>\n",
       "    </tr>\n",
       "    <tr>\n",
       "      <th>3</th>\n",
       "      <td>-PGsEXB6DFTVKa1eDOlzWA</td>\n",
       "      <td>1.400000</td>\n",
       "      <td>65</td>\n",
       "      <td>940.276923</td>\n",
       "      <td>0.198195</td>\n",
       "      <td>0.121829</td>\n",
       "      <td>0.195939</td>\n",
       "      <td>0.167739</td>\n",
       "      <td>0.189003</td>\n",
       "      <td>0.127294</td>\n",
       "    </tr>\n",
       "    <tr>\n",
       "      <th>4</th>\n",
       "      <td>-SGZcGqnsp_uRIjKP2RGZg</td>\n",
       "      <td>1.000000</td>\n",
       "      <td>3</td>\n",
       "      <td>632.000000</td>\n",
       "      <td>0.820040</td>\n",
       "      <td>0.022365</td>\n",
       "      <td>0.000000</td>\n",
       "      <td>0.011353</td>\n",
       "      <td>0.000000</td>\n",
       "      <td>0.146242</td>\n",
       "    </tr>\n",
       "  </tbody>\n",
       "</table>\n",
       "</div>"
      ],
      "text/plain": [
       "              business_id     stars  text  review_length         0         1  \\\n",
       "0  -CQokjildrY7UZezXCdEBw  2.000000     1    1657.000000  0.444163  0.000000   \n",
       "1  -JfncbVURtvuzBbof40o1w  1.430769    65     642.630769  0.248158  0.142531   \n",
       "2  -OEIW0dO96-492qa_luxaw  1.363636    33     841.121212  0.200100  0.137036   \n",
       "3  -PGsEXB6DFTVKa1eDOlzWA  1.400000    65     940.276923  0.198195  0.121829   \n",
       "4  -SGZcGqnsp_uRIjKP2RGZg  1.000000     3     632.000000  0.820040  0.022365   \n",
       "\n",
       "          2         3         4         5  \n",
       "0  0.191896  0.130308  0.233632  0.000000  \n",
       "1  0.177165  0.159990  0.153210  0.118944  \n",
       "2  0.197750  0.163034  0.135724  0.166354  \n",
       "3  0.195939  0.167739  0.189003  0.127294  \n",
       "4  0.000000  0.011353  0.000000  0.146242  "
      ]
     },
     "execution_count": 47,
     "metadata": {},
     "output_type": "execute_result"
    }
   ],
   "source": [
    "df_neg_bsns.head()"
   ]
  },
  {
   "cell_type": "markdown",
   "metadata": {},
   "source": [
    "## Adding in Business Information "
   ]
  },
  {
   "cell_type": "code",
   "execution_count": 48,
   "metadata": {},
   "outputs": [],
   "source": [
    "# merge business name/city with topic data\n",
    "df_pos_tot = df_pos_bsns.merge(restaurants_df[['business_id', 'name', 'city', 'stars']], left_on='business_id', \n",
    "                               right_on='business_id')[['business_id', 'name', 'city', 'stars_y', 0, 1, 2, 3, 4, 5]]\n",
    "\n",
    "df_neg_tot = df_neg_bsns.merge(restaurants_df[['business_id', 'name', 'city', 'stars']], left_on='business_id', \n",
    "                               right_on='business_id')[['business_id', 'name', 'city', 'stars_y', 0, 1, 2, 3, 4, 5]]"
   ]
  },
  {
   "cell_type": "code",
   "execution_count": 49,
   "metadata": {},
   "outputs": [
    {
     "data": {
      "text/html": [
       "<div>\n",
       "<style scoped>\n",
       "    .dataframe tbody tr th:only-of-type {\n",
       "        vertical-align: middle;\n",
       "    }\n",
       "\n",
       "    .dataframe tbody tr th {\n",
       "        vertical-align: top;\n",
       "    }\n",
       "\n",
       "    .dataframe thead th {\n",
       "        text-align: right;\n",
       "    }\n",
       "</style>\n",
       "<table border=\"1\" class=\"dataframe\">\n",
       "  <thead>\n",
       "    <tr style=\"text-align: right;\">\n",
       "      <th></th>\n",
       "      <th>business_id</th>\n",
       "      <th>name</th>\n",
       "      <th>city</th>\n",
       "      <th>stars_y</th>\n",
       "      <th>0</th>\n",
       "      <th>1</th>\n",
       "      <th>2</th>\n",
       "      <th>3</th>\n",
       "      <th>4</th>\n",
       "      <th>5</th>\n",
       "    </tr>\n",
       "  </thead>\n",
       "  <tbody>\n",
       "    <tr>\n",
       "      <th>0</th>\n",
       "      <td>-CQokjildrY7UZezXCdEBw</td>\n",
       "      <td>Toddy Shop</td>\n",
       "      <td>Las Vegas</td>\n",
       "      <td>5.0</td>\n",
       "      <td>0.444163</td>\n",
       "      <td>0.000000</td>\n",
       "      <td>0.191896</td>\n",
       "      <td>0.130308</td>\n",
       "      <td>0.233632</td>\n",
       "      <td>0.000000</td>\n",
       "    </tr>\n",
       "    <tr>\n",
       "      <th>1</th>\n",
       "      <td>-JfncbVURtvuzBbof40o1w</td>\n",
       "      <td>The Cafe at Monte Carlo</td>\n",
       "      <td>Las Vegas</td>\n",
       "      <td>2.5</td>\n",
       "      <td>0.248158</td>\n",
       "      <td>0.142531</td>\n",
       "      <td>0.177165</td>\n",
       "      <td>0.159990</td>\n",
       "      <td>0.153210</td>\n",
       "      <td>0.118944</td>\n",
       "    </tr>\n",
       "    <tr>\n",
       "      <th>2</th>\n",
       "      <td>-OEIW0dO96-492qa_luxaw</td>\n",
       "      <td>Aces &amp; Ales</td>\n",
       "      <td>Las Vegas</td>\n",
       "      <td>4.0</td>\n",
       "      <td>0.200100</td>\n",
       "      <td>0.137036</td>\n",
       "      <td>0.197750</td>\n",
       "      <td>0.163034</td>\n",
       "      <td>0.135724</td>\n",
       "      <td>0.166354</td>\n",
       "    </tr>\n",
       "    <tr>\n",
       "      <th>3</th>\n",
       "      <td>-PGsEXB6DFTVKa1eDOlzWA</td>\n",
       "      <td>Black Bear Diner</td>\n",
       "      <td>Las Vegas</td>\n",
       "      <td>3.5</td>\n",
       "      <td>0.198195</td>\n",
       "      <td>0.121829</td>\n",
       "      <td>0.195939</td>\n",
       "      <td>0.167739</td>\n",
       "      <td>0.189003</td>\n",
       "      <td>0.127294</td>\n",
       "    </tr>\n",
       "    <tr>\n",
       "      <th>4</th>\n",
       "      <td>-SGZcGqnsp_uRIjKP2RGZg</td>\n",
       "      <td>Ranch House Grille</td>\n",
       "      <td>Las Vegas</td>\n",
       "      <td>3.5</td>\n",
       "      <td>0.820040</td>\n",
       "      <td>0.022365</td>\n",
       "      <td>0.000000</td>\n",
       "      <td>0.011353</td>\n",
       "      <td>0.000000</td>\n",
       "      <td>0.146242</td>\n",
       "    </tr>\n",
       "    <tr>\n",
       "      <th>5</th>\n",
       "      <td>-U7tvCtaraTQ9b0zBhpBMA</td>\n",
       "      <td>MGM Grand Buffet</td>\n",
       "      <td>Las Vegas</td>\n",
       "      <td>2.5</td>\n",
       "      <td>0.258160</td>\n",
       "      <td>0.100571</td>\n",
       "      <td>0.173129</td>\n",
       "      <td>0.154207</td>\n",
       "      <td>0.186405</td>\n",
       "      <td>0.127528</td>\n",
       "    </tr>\n",
       "    <tr>\n",
       "      <th>6</th>\n",
       "      <td>-UtYWvCnUppcSaC_u1pTYQ</td>\n",
       "      <td>Kopper Keg Restaurant &amp; Lounge</td>\n",
       "      <td>Las Vegas</td>\n",
       "      <td>4.0</td>\n",
       "      <td>0.375177</td>\n",
       "      <td>0.024044</td>\n",
       "      <td>0.000000</td>\n",
       "      <td>0.000000</td>\n",
       "      <td>0.495859</td>\n",
       "      <td>0.104919</td>\n",
       "    </tr>\n",
       "    <tr>\n",
       "      <th>7</th>\n",
       "      <td>-Ylpy3VyRWwubf9dysuwjQ</td>\n",
       "      <td>The Cheesecake Factory</td>\n",
       "      <td>Las Vegas</td>\n",
       "      <td>3.5</td>\n",
       "      <td>0.243450</td>\n",
       "      <td>0.107310</td>\n",
       "      <td>0.159245</td>\n",
       "      <td>0.112695</td>\n",
       "      <td>0.162365</td>\n",
       "      <td>0.214936</td>\n",
       "    </tr>\n",
       "    <tr>\n",
       "      <th>8</th>\n",
       "      <td>-a857YYdjzgOdOjFFRsRXQ</td>\n",
       "      <td>Beer Park</td>\n",
       "      <td>Las Vegas</td>\n",
       "      <td>3.5</td>\n",
       "      <td>0.265302</td>\n",
       "      <td>0.068033</td>\n",
       "      <td>0.172120</td>\n",
       "      <td>0.178308</td>\n",
       "      <td>0.149068</td>\n",
       "      <td>0.167170</td>\n",
       "    </tr>\n",
       "    <tr>\n",
       "      <th>9</th>\n",
       "      <td>-kbPPBNsIPDfMfgUGO7QhA</td>\n",
       "      <td>Kopper Keg South</td>\n",
       "      <td>Las Vegas</td>\n",
       "      <td>4.0</td>\n",
       "      <td>0.340478</td>\n",
       "      <td>0.019509</td>\n",
       "      <td>0.286910</td>\n",
       "      <td>0.102709</td>\n",
       "      <td>0.179072</td>\n",
       "      <td>0.071321</td>\n",
       "    </tr>\n",
       "  </tbody>\n",
       "</table>\n",
       "</div>"
      ],
      "text/plain": [
       "              business_id                            name       city  stars_y  \\\n",
       "0  -CQokjildrY7UZezXCdEBw                      Toddy Shop  Las Vegas      5.0   \n",
       "1  -JfncbVURtvuzBbof40o1w         The Cafe at Monte Carlo  Las Vegas      2.5   \n",
       "2  -OEIW0dO96-492qa_luxaw                     Aces & Ales  Las Vegas      4.0   \n",
       "3  -PGsEXB6DFTVKa1eDOlzWA                Black Bear Diner  Las Vegas      3.5   \n",
       "4  -SGZcGqnsp_uRIjKP2RGZg              Ranch House Grille  Las Vegas      3.5   \n",
       "5  -U7tvCtaraTQ9b0zBhpBMA                MGM Grand Buffet  Las Vegas      2.5   \n",
       "6  -UtYWvCnUppcSaC_u1pTYQ  Kopper Keg Restaurant & Lounge  Las Vegas      4.0   \n",
       "7  -Ylpy3VyRWwubf9dysuwjQ          The Cheesecake Factory  Las Vegas      3.5   \n",
       "8  -a857YYdjzgOdOjFFRsRXQ                       Beer Park  Las Vegas      3.5   \n",
       "9  -kbPPBNsIPDfMfgUGO7QhA                Kopper Keg South  Las Vegas      4.0   \n",
       "\n",
       "          0         1         2         3         4         5  \n",
       "0  0.444163  0.000000  0.191896  0.130308  0.233632  0.000000  \n",
       "1  0.248158  0.142531  0.177165  0.159990  0.153210  0.118944  \n",
       "2  0.200100  0.137036  0.197750  0.163034  0.135724  0.166354  \n",
       "3  0.198195  0.121829  0.195939  0.167739  0.189003  0.127294  \n",
       "4  0.820040  0.022365  0.000000  0.011353  0.000000  0.146242  \n",
       "5  0.258160  0.100571  0.173129  0.154207  0.186405  0.127528  \n",
       "6  0.375177  0.024044  0.000000  0.000000  0.495859  0.104919  \n",
       "7  0.243450  0.107310  0.159245  0.112695  0.162365  0.214936  \n",
       "8  0.265302  0.068033  0.172120  0.178308  0.149068  0.167170  \n",
       "9  0.340478  0.019509  0.286910  0.102709  0.179072  0.071321  "
      ]
     },
     "execution_count": 49,
     "metadata": {},
     "output_type": "execute_result"
    }
   ],
   "source": [
    "# peek into business/topic distributions\n",
    "df_neg_tot.head(10)"
   ]
  },
  {
   "cell_type": "code",
   "execution_count": 52,
   "metadata": {},
   "outputs": [
    {
     "name": "stdout",
     "output_type": "stream",
     "text": [
      "Black Bear Diner - Positive Reviews\n",
      "------------------------------------\n",
      "Topic 0: location/bar       > 0.1982\n",
      "Topic 1: burger/fries       > 0.1218\n",
      "Topic 2: waiting_time       > 0.1959\n",
      "Topic 3: chicken/salad      > 0.1677\n",
      "Topic 4: bad_service        > 0.1890\n",
      "Topic 5: breakfast/price    > 0.1273\n"
     ]
    }
   ],
   "source": [
    "scores = df_neg_bsns[df_neg_bsns.business_id == '-PGsEXB6DFTVKa1eDOlzWA'].iloc[:,-6:].values\n",
    "print(restaurants_df[restaurants_df.business_id == '-PGsEXB6DFTVKa1eDOlzWA']['name'].values[0] + ' - Positive Reviews')\n",
    "print('-'*36)\n",
    "for n in neg_topics:\n",
    "    print('Topic {}: {:18} > {:.4f}'.format(n, neg_topics[n], scores[0][n]))"
   ]
  },
  {
   "cell_type": "code",
   "execution_count": 51,
   "metadata": {},
   "outputs": [
    {
     "name": "stdout",
     "output_type": "stream",
     "text": [
      "Wall time: 5.99 s\n"
     ]
    }
   ],
   "source": [
    "%%time\n",
    "# write to CSV\n",
    "df_pos_tot.to_csv('datasets/pos_bsns.csv')\n",
    "df_neg_tot.to_csv('datasets/neg_bsns.csv')\n",
    "df_pos.to_csv('datasets/pos_reviews.csv')\n",
    "df_neg.to_csv('datasets/neg_reviews.csv')"
   ]
  }
 ],
 "metadata": {
  "kernelspec": {
   "display_name": "Python 3",
   "language": "python",
   "name": "python3"
  },
  "language_info": {
   "codemirror_mode": {
    "name": "ipython",
    "version": 3
   },
   "file_extension": ".py",
   "mimetype": "text/x-python",
   "name": "python",
   "nbconvert_exporter": "python",
   "pygments_lexer": "ipython3",
   "version": "3.6.6"
  }
 },
 "nbformat": 4,
 "nbformat_minor": 2
}

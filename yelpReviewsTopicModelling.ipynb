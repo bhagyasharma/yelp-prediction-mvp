{
 "cells": [
  {
   "cell_type": "markdown",
   "metadata": {},
   "source": [
    "## yelpReviewsTopicModelling"
   ]
  },
  {
   "cell_type": "code",
   "execution_count": 1,
   "metadata": {},
   "outputs": [],
   "source": [
    "## IMPORT NECESSARY PACKAGES #1\n",
    "\n",
    "from pprint import pprint\n",
    "# import pandasql as ps\n",
    "import numpy as np\n",
    "import pandas as pd\n",
    "import requests\n",
    "import matplotlib.pyplot as plt\n",
    "%matplotlib inline\n",
    "import seaborn as sns\n",
    "from zipfile import ZipFile\n",
    "from io import BytesIO\n",
    "from IPython.core.interactiveshell import InteractiveShell\n",
    "from IPython.display import display, HTML\n",
    "# InteractiveShell.ast_node_interactivity = \"all\"\n",
    "# CSS = \"\"\"\n",
    "# .output {\n",
    "#     flex-direction: row;\n",
    "# }\n",
    "# \"\"\"\n",
    "# HTML('<style>{}</style>'.format(CSS))\n",
    "\n",
    "sns.set()"
   ]
  },
  {
   "cell_type": "code",
   "execution_count": 2,
   "metadata": {},
   "outputs": [],
   "source": [
    "## LOAD TORONTO DATASETS & DELETE WEIRD \n",
    "\n",
    "restaurants_df = pd.read_csv(\"datasets/american_restaurants.csv\", sep='\\t', encoding='utf-8')\n",
    "reviews_df = pd.read_csv(\"datasets/review_sentiment.csv\", encoding='utf-8')\n",
    "\n",
    "del(restaurants_df['Unnamed: 0'])\n",
    "# del(reviews_df['Unnamed: 0'])\n",
    "\n",
    "restaurants_df = restaurants_df[restaurants_df['RestaurantsPriceRange2'] == 2]\n",
    "reviews_df = reviews_df.loc[reviews_df['business_id'].isin(restaurants_df.business_id)]"
   ]
  },
  {
   "cell_type": "code",
   "execution_count": 3,
   "metadata": {
    "scrolled": true
   },
   "outputs": [
    {
     "data": {
      "text/html": [
       "<div>\n",
       "<style scoped>\n",
       "    .dataframe tbody tr th:only-of-type {\n",
       "        vertical-align: middle;\n",
       "    }\n",
       "\n",
       "    .dataframe tbody tr th {\n",
       "        vertical-align: top;\n",
       "    }\n",
       "\n",
       "    .dataframe thead th {\n",
       "        text-align: right;\n",
       "    }\n",
       "</style>\n",
       "<table border=\"1\" class=\"dataframe\">\n",
       "  <thead>\n",
       "    <tr style=\"text-align: right;\">\n",
       "      <th></th>\n",
       "      <th>address</th>\n",
       "      <th>attributes</th>\n",
       "      <th>AcceptsInsurance</th>\n",
       "      <th>AgesAllowed</th>\n",
       "      <th>Alcohol</th>\n",
       "      <th>Ambience</th>\n",
       "      <th>BYOB</th>\n",
       "      <th>BYOBCorkage</th>\n",
       "      <th>BestNights</th>\n",
       "      <th>BikeParking</th>\n",
       "      <th>...</th>\n",
       "      <th>is_open</th>\n",
       "      <th>latitude</th>\n",
       "      <th>longitude</th>\n",
       "      <th>name</th>\n",
       "      <th>neighborhood</th>\n",
       "      <th>postal_code</th>\n",
       "      <th>review_count</th>\n",
       "      <th>stars</th>\n",
       "      <th>state</th>\n",
       "      <th>cuisine</th>\n",
       "    </tr>\n",
       "  </thead>\n",
       "  <tbody>\n",
       "    <tr>\n",
       "      <th>0</th>\n",
       "      <td>2201 S Fort Apache Rd</td>\n",
       "      <td>NaN</td>\n",
       "      <td>NaN</td>\n",
       "      <td>NaN</td>\n",
       "      <td>full_bar</td>\n",
       "      <td>{'romantic': False, 'intimate': False, 'classy...</td>\n",
       "      <td>NaN</td>\n",
       "      <td>NaN</td>\n",
       "      <td>NaN</td>\n",
       "      <td>True</td>\n",
       "      <td>...</td>\n",
       "      <td>1</td>\n",
       "      <td>36.147496</td>\n",
       "      <td>-115.298066</td>\n",
       "      <td>Chicago Brewing Company</td>\n",
       "      <td>Westside</td>\n",
       "      <td>89117.0</td>\n",
       "      <td>446</td>\n",
       "      <td>3.5</td>\n",
       "      <td>NV</td>\n",
       "      <td>american</td>\n",
       "    </tr>\n",
       "    <tr>\n",
       "      <th>4</th>\n",
       "      <td>7160 North Durango Dr, Ste 110</td>\n",
       "      <td>NaN</td>\n",
       "      <td>NaN</td>\n",
       "      <td>NaN</td>\n",
       "      <td>beer_and_wine</td>\n",
       "      <td>{'romantic': False, 'intimate': False, 'classy...</td>\n",
       "      <td>NaN</td>\n",
       "      <td>NaN</td>\n",
       "      <td>NaN</td>\n",
       "      <td>True</td>\n",
       "      <td>...</td>\n",
       "      <td>0</td>\n",
       "      <td>36.291436</td>\n",
       "      <td>-115.287016</td>\n",
       "      <td>Table 89</td>\n",
       "      <td>Centennial</td>\n",
       "      <td>89149.0</td>\n",
       "      <td>79</td>\n",
       "      <td>3.5</td>\n",
       "      <td>NV</td>\n",
       "      <td>american</td>\n",
       "    </tr>\n",
       "    <tr>\n",
       "      <th>5</th>\n",
       "      <td>6689 Las Vegas Blvd</td>\n",
       "      <td>NaN</td>\n",
       "      <td>NaN</td>\n",
       "      <td>NaN</td>\n",
       "      <td>beer_and_wine</td>\n",
       "      <td>{'romantic': False, 'intimate': False, 'classy...</td>\n",
       "      <td>NaN</td>\n",
       "      <td>NaN</td>\n",
       "      <td>NaN</td>\n",
       "      <td>True</td>\n",
       "      <td>...</td>\n",
       "      <td>1</td>\n",
       "      <td>36.067581</td>\n",
       "      <td>-115.174230</td>\n",
       "      <td>LV bar</td>\n",
       "      <td>Southeast</td>\n",
       "      <td>89119.0</td>\n",
       "      <td>22</td>\n",
       "      <td>4.5</td>\n",
       "      <td>NV</td>\n",
       "      <td>american</td>\n",
       "    </tr>\n",
       "    <tr>\n",
       "      <th>6</th>\n",
       "      <td>6683 Las Vegas Blvd S</td>\n",
       "      <td>NaN</td>\n",
       "      <td>NaN</td>\n",
       "      <td>NaN</td>\n",
       "      <td>full_bar</td>\n",
       "      <td>{'romantic': False, 'intimate': False, 'classy...</td>\n",
       "      <td>NaN</td>\n",
       "      <td>NaN</td>\n",
       "      <td>{'monday': True, 'tuesday': False, 'friday': T...</td>\n",
       "      <td>True</td>\n",
       "      <td>...</td>\n",
       "      <td>1</td>\n",
       "      <td>36.066182</td>\n",
       "      <td>-115.175288</td>\n",
       "      <td>Miller's Ale House - Las Vegas</td>\n",
       "      <td>Southeast</td>\n",
       "      <td>89119.0</td>\n",
       "      <td>583</td>\n",
       "      <td>3.5</td>\n",
       "      <td>NV</td>\n",
       "      <td>american</td>\n",
       "    </tr>\n",
       "    <tr>\n",
       "      <th>7</th>\n",
       "      <td>6430 N Durango Dr, Ste 110</td>\n",
       "      <td>NaN</td>\n",
       "      <td>NaN</td>\n",
       "      <td>NaN</td>\n",
       "      <td>full_bar</td>\n",
       "      <td>{'romantic': False, 'intimate': False, 'classy...</td>\n",
       "      <td>NaN</td>\n",
       "      <td>NaN</td>\n",
       "      <td>{'monday': False, 'tuesday': False, 'friday': ...</td>\n",
       "      <td>True</td>\n",
       "      <td>...</td>\n",
       "      <td>1</td>\n",
       "      <td>36.277783</td>\n",
       "      <td>-115.286333</td>\n",
       "      <td>Distill - A Local Bar</td>\n",
       "      <td>Centennial</td>\n",
       "      <td>89149.0</td>\n",
       "      <td>203</td>\n",
       "      <td>4.0</td>\n",
       "      <td>NV</td>\n",
       "      <td>american</td>\n",
       "    </tr>\n",
       "  </tbody>\n",
       "</table>\n",
       "<p>5 rows × 62 columns</p>\n",
       "</div>"
      ],
      "text/plain": [
       "                          address  attributes  AcceptsInsurance AgesAllowed  \\\n",
       "0           2201 S Fort Apache Rd         NaN               NaN         NaN   \n",
       "4  7160 North Durango Dr, Ste 110         NaN               NaN         NaN   \n",
       "5             6689 Las Vegas Blvd         NaN               NaN         NaN   \n",
       "6           6683 Las Vegas Blvd S         NaN               NaN         NaN   \n",
       "7      6430 N Durango Dr, Ste 110         NaN               NaN         NaN   \n",
       "\n",
       "         Alcohol                                           Ambience BYOB  \\\n",
       "0       full_bar  {'romantic': False, 'intimate': False, 'classy...  NaN   \n",
       "4  beer_and_wine  {'romantic': False, 'intimate': False, 'classy...  NaN   \n",
       "5  beer_and_wine  {'romantic': False, 'intimate': False, 'classy...  NaN   \n",
       "6       full_bar  {'romantic': False, 'intimate': False, 'classy...  NaN   \n",
       "7       full_bar  {'romantic': False, 'intimate': False, 'classy...  NaN   \n",
       "\n",
       "  BYOBCorkage                                         BestNights BikeParking  \\\n",
       "0         NaN                                                NaN        True   \n",
       "4         NaN                                                NaN        True   \n",
       "5         NaN                                                NaN        True   \n",
       "6         NaN  {'monday': True, 'tuesday': False, 'friday': T...        True   \n",
       "7         NaN  {'monday': False, 'tuesday': False, 'friday': ...        True   \n",
       "\n",
       "     ...    is_open   latitude   longitude                            name  \\\n",
       "0    ...          1  36.147496 -115.298066         Chicago Brewing Company   \n",
       "4    ...          0  36.291436 -115.287016                        Table 89   \n",
       "5    ...          1  36.067581 -115.174230                          LV bar   \n",
       "6    ...          1  36.066182 -115.175288  Miller's Ale House - Las Vegas   \n",
       "7    ...          1  36.277783 -115.286333           Distill - A Local Bar   \n",
       "\n",
       "  neighborhood postal_code review_count stars state   cuisine  \n",
       "0     Westside     89117.0          446   3.5    NV  american  \n",
       "4   Centennial     89149.0           79   3.5    NV  american  \n",
       "5    Southeast     89119.0           22   4.5    NV  american  \n",
       "6    Southeast     89119.0          583   3.5    NV  american  \n",
       "7   Centennial     89149.0          203   4.0    NV  american  \n",
       "\n",
       "[5 rows x 62 columns]"
      ]
     },
     "execution_count": 3,
     "metadata": {},
     "output_type": "execute_result"
    }
   ],
   "source": [
    "restaurants_df.head()"
   ]
  },
  {
   "cell_type": "code",
   "execution_count": 4,
   "metadata": {},
   "outputs": [
    {
     "data": {
      "text/html": [
       "<div>\n",
       "<style scoped>\n",
       "    .dataframe tbody tr th:only-of-type {\n",
       "        vertical-align: middle;\n",
       "    }\n",
       "\n",
       "    .dataframe tbody tr th {\n",
       "        vertical-align: top;\n",
       "    }\n",
       "\n",
       "    .dataframe thead th {\n",
       "        text-align: right;\n",
       "    }\n",
       "</style>\n",
       "<table border=\"1\" class=\"dataframe\">\n",
       "  <thead>\n",
       "    <tr style=\"text-align: right;\">\n",
       "      <th></th>\n",
       "      <th>business_id</th>\n",
       "      <th>text</th>\n",
       "      <th>label</th>\n",
       "      <th>stars</th>\n",
       "    </tr>\n",
       "  </thead>\n",
       "  <tbody>\n",
       "    <tr>\n",
       "      <th>0</th>\n",
       "      <td>jtQARsP6P-LbkyjbO1qNGg</td>\n",
       "      <td>Terrible. Dry corn bread. Rib tips were all fa...</td>\n",
       "      <td>-1</td>\n",
       "      <td>1.0</td>\n",
       "    </tr>\n",
       "    <tr>\n",
       "      <th>2</th>\n",
       "      <td>faPVqws-x-5k2CQKDNtHxw</td>\n",
       "      <td>People please...the only good thing about this...</td>\n",
       "      <td>1</td>\n",
       "      <td>1.0</td>\n",
       "    </tr>\n",
       "    <tr>\n",
       "      <th>5</th>\n",
       "      <td>3kdSl5mo9dWC4clrQjEDGg</td>\n",
       "      <td>????????????????????????????????????\\r\\n?????7...</td>\n",
       "      <td>0</td>\n",
       "      <td>4.0</td>\n",
       "    </tr>\n",
       "    <tr>\n",
       "      <th>6</th>\n",
       "      <td>f4x1YBxkLrZg652xt2KR5g</td>\n",
       "      <td>????????????????????\\r\\n???Link Hotel???????\\r...</td>\n",
       "      <td>0</td>\n",
       "      <td>3.0</td>\n",
       "    </tr>\n",
       "    <tr>\n",
       "      <th>8</th>\n",
       "      <td>wuQDMDlqM17jQNo0lYQZ7g</td>\n",
       "      <td>One of the best experiences I have had in Vega...</td>\n",
       "      <td>1</td>\n",
       "      <td>5.0</td>\n",
       "    </tr>\n",
       "  </tbody>\n",
       "</table>\n",
       "</div>"
      ],
      "text/plain": [
       "              business_id                                               text  \\\n",
       "0  jtQARsP6P-LbkyjbO1qNGg  Terrible. Dry corn bread. Rib tips were all fa...   \n",
       "2  faPVqws-x-5k2CQKDNtHxw  People please...the only good thing about this...   \n",
       "5  3kdSl5mo9dWC4clrQjEDGg  ????????????????????????????????????\\r\\n?????7...   \n",
       "6  f4x1YBxkLrZg652xt2KR5g  ????????????????????\\r\\n???Link Hotel???????\\r...   \n",
       "8  wuQDMDlqM17jQNo0lYQZ7g  One of the best experiences I have had in Vega...   \n",
       "\n",
       "   label  stars  \n",
       "0     -1    1.0  \n",
       "2      1    1.0  \n",
       "5      0    4.0  \n",
       "6      0    3.0  \n",
       "8      1    5.0  "
      ]
     },
     "execution_count": 4,
     "metadata": {},
     "output_type": "execute_result"
    }
   ],
   "source": [
    "reviews_df.head()"
   ]
  },
  {
   "cell_type": "code",
   "execution_count": 5,
   "metadata": {},
   "outputs": [
    {
     "name": "stdout",
     "output_type": "stream",
     "text": [
      "Number of categories listed 1\n"
     ]
    },
    {
     "data": {
      "text/plain": [
       "0    Las Vegas\n",
       "4    Las Vegas\n",
       "5    Las Vegas\n",
       "6    Las Vegas\n",
       "7    Las Vegas\n",
       "Name: city, dtype: object"
      ]
     },
     "execution_count": 5,
     "metadata": {},
     "output_type": "execute_result"
    }
   ],
   "source": [
    "print('Number of categories listed',restaurants_df['city'].nunique())\n",
    "\n",
    "restaurants_df['city'].head()"
   ]
  },
  {
   "cell_type": "code",
   "execution_count": 6,
   "metadata": {},
   "outputs": [
    {
     "data": {
      "text/plain": [
       "774"
      ]
     },
     "execution_count": 6,
     "metadata": {},
     "output_type": "execute_result"
    }
   ],
   "source": [
    "len(restaurants_df)"
   ]
  },
  {
   "cell_type": "code",
   "execution_count": 7,
   "metadata": {},
   "outputs": [
    {
     "data": {
      "image/png": "[encoded data removed]",
      "text/plain": [
       "<Figure size 1080x216 with 5 Axes>"
      ]
     },
     "metadata": {
      "needs_background": "light"
     },
     "output_type": "display_data"
    }
   ],
   "source": [
    "# check how the review lengths are distributed\n",
    "reviews_df['review_length'] = reviews_df.text.map(len)\n",
    "\n",
    "ax = sns.FacetGrid(data=reviews_df, col='stars', xlim=(0, 2000)).map(plt.hist, 'review_length', bins=50)\n",
    "\n",
    "ax.axes[0][0].set(ylabel='number of reviews');"
   ]
  },
  {
   "cell_type": "code",
   "execution_count": 8,
   "metadata": {},
   "outputs": [
    {
     "name": "stdout",
     "output_type": "stream",
     "text": [
      "Postive Reviews:  182,678\n",
      "Negative Reviews:  28,209\n"
     ]
    }
   ],
   "source": [
    "pos_reviews = reviews_df.text[reviews_df.label == 1].values\n",
    "neg_reviews = reviews_df.text[reviews_df.label == -1].values\n",
    "print('Postive Reviews:  {:,}'.format(len(pos_reviews)))\n",
    "print('Negative Reviews:  {:,}'.format(len(neg_reviews)))"
   ]
  },
  {
   "cell_type": "code",
   "execution_count": 9,
   "metadata": {},
   "outputs": [],
   "source": [
    "# additional stopwords\n",
    "from sklearn.feature_extraction import text \n",
    "extra_words = ['ve', 'like', 'got', 'vegas','las' 'just', \n",
    "               'don', 'really', 'said', 'told', 'ok',\n",
    "               'came', 'went', 'did', 'didn', 'good']\n",
    "stop_words = text.ENGLISH_STOP_WORDS.union(extra_words)"
   ]
  },
  {
   "cell_type": "code",
   "execution_count": 10,
   "metadata": {},
   "outputs": [
    {
     "name": "stdout",
     "output_type": "stream",
     "text": [
      "Wall time: 2.44 s\n"
     ]
    }
   ],
   "source": [
    "%%time\n",
    "from sklearn.feature_extraction.text import TfidfVectorizer\n",
    "\n",
    "# Create a vectorizer object to generate term document counts\n",
    "tfidf_pos = TfidfVectorizer(stop_words=stop_words, min_df=10, max_df=0.5, \n",
    "                        ngram_range=(1,1), token_pattern='[a-z][a-z]+')\n",
    "\n",
    "tfidf_neg = TfidfVectorizer(stop_words=stop_words, min_df=10, max_df=0.5, \n",
    "                        ngram_range=(1,1), token_pattern='[a-z][a-z]+')\n",
    "\n",
    "# Get random subset of reviews\n",
    "np.random.seed(38)\n",
    "num_reviews = 20000\n",
    "random_neg = np.random.choice(neg_reviews, size=num_reviews)\n",
    "random_pos = np.random.choice(pos_reviews, size=num_reviews)\n",
    "\n",
    "dicty = {'pizzas':'pizza', 'burgers':'burger', 'ordered':'order',\n",
    "         'prices':'price', 'topping':'toppings'}\n",
    "def replace_words(text, dicty):\n",
    "    '''Returns text with word substitutions made according\n",
    "       to the passed `dicty` dictionary'''\n",
    "    for i,j in dicty.items():\n",
    "        text = text.replace(i,j)\n",
    "    return text\n",
    "\n",
    "random_neg = [replace_words(w, dicty) for w in random_neg]\n",
    "random_pos = [replace_words(w, dicty) for w in random_pos]\n",
    "\n",
    "# Get the vectors\n",
    "neg_vectors = tfidf_neg.fit_transform(random_neg)\n",
    "pos_vectors = tfidf_pos.fit_transform(random_pos)"
   ]
  },
  {
   "cell_type": "code",
   "execution_count": 64,
   "metadata": {},
   "outputs": [
    {
     "ename": "NameError",
     "evalue": "name 'pos_df' is not defined",
     "output_type": "error",
     "traceback": [
      "\u001b[1;31m---------------------------------------------------------------------------\u001b[0m",
      "\u001b[1;31mNameError\u001b[0m                                 Traceback (most recent call last)",
      "\u001b[1;32m<ipython-input-64-b97a6d5a674b>\u001b[0m in \u001b[0;36m<module>\u001b[1;34m()\u001b[0m\n\u001b[1;32m----> 1\u001b[1;33m \u001b[0mpos_df\u001b[0m\u001b[1;33m\u001b[0m\u001b[0m\n\u001b[0m",
      "\u001b[1;31mNameError\u001b[0m: name 'pos_df' is not defined"
     ]
    }
   ],
   "source": [
    "pos_df"
   ]
  },
  {
   "cell_type": "code",
   "execution_count": 65,
   "metadata": {},
   "outputs": [
    {
     "ename": "MemoryError",
     "evalue": "",
     "output_type": "error",
     "traceback": [
      "\u001b[1;31m---------------------------------------------------------------------------\u001b[0m",
      "\u001b[1;31mMemoryError\u001b[0m                               Traceback (most recent call last)",
      "\u001b[1;32m<ipython-input-65-02996117a173>\u001b[0m in \u001b[0;36m<module>\u001b[1;34m()\u001b[0m\n\u001b[0;32m      1\u001b[0m \u001b[1;31m# Store TFIDF vectors in a Pandas DataFrame to investigate further\u001b[0m\u001b[1;33m\u001b[0m\u001b[1;33m\u001b[0m\u001b[0m\n\u001b[0;32m      2\u001b[0m \u001b[0mneg_df\u001b[0m \u001b[1;33m=\u001b[0m \u001b[0mpd\u001b[0m\u001b[1;33m.\u001b[0m\u001b[0mDataFrame\u001b[0m\u001b[1;33m(\u001b[0m\u001b[0mneg_vectors\u001b[0m\u001b[1;33m.\u001b[0m\u001b[0mtodense\u001b[0m\u001b[1;33m(\u001b[0m\u001b[1;33m)\u001b[0m\u001b[1;33m,\u001b[0m \u001b[0mcolumns\u001b[0m\u001b[1;33m=\u001b[0m\u001b[1;33m[\u001b[0m\u001b[0mtfidf_neg\u001b[0m\u001b[1;33m.\u001b[0m\u001b[0mget_feature_names\u001b[0m\u001b[1;33m(\u001b[0m\u001b[1;33m)\u001b[0m\u001b[1;33m]\u001b[0m\u001b[1;33m)\u001b[0m\u001b[1;33m\u001b[0m\u001b[0m\n\u001b[1;32m----> 3\u001b[1;33m \u001b[0mpos_df\u001b[0m \u001b[1;33m=\u001b[0m \u001b[0mpd\u001b[0m\u001b[1;33m.\u001b[0m\u001b[0mDataFrame\u001b[0m\u001b[1;33m(\u001b[0m\u001b[0mpos_vectors\u001b[0m\u001b[1;33m.\u001b[0m\u001b[0mtodense\u001b[0m\u001b[1;33m(\u001b[0m\u001b[1;33m)\u001b[0m\u001b[1;33m,\u001b[0m \u001b[0mcolumns\u001b[0m\u001b[1;33m=\u001b[0m\u001b[1;33m[\u001b[0m\u001b[0mtfidf_pos\u001b[0m\u001b[1;33m.\u001b[0m\u001b[0mget_feature_names\u001b[0m\u001b[1;33m(\u001b[0m\u001b[1;33m)\u001b[0m\u001b[1;33m]\u001b[0m\u001b[1;33m)\u001b[0m\u001b[1;33m\u001b[0m\u001b[0m\n\u001b[0m\u001b[0;32m      4\u001b[0m \u001b[1;33m\u001b[0m\u001b[0m\n\u001b[0;32m      5\u001b[0m \u001b[1;31m# get mean for each column (word): highest means are most important words\u001b[0m\u001b[1;33m\u001b[0m\u001b[1;33m\u001b[0m\u001b[0m\n",
      "\u001b[1;32m~\\Anaconda3\\lib\\site-packages\\scipy\\sparse\\base.py\u001b[0m in \u001b[0;36mtodense\u001b[1;34m(self, order, out)\u001b[0m\n\u001b[0;32m    844\u001b[0m             \u001b[0;31m`\u001b[0m\u001b[0mnumpy\u001b[0m\u001b[1;33m.\u001b[0m\u001b[0mmatrix\u001b[0m\u001b[0;31m`\u001b[0m \u001b[0mobject\u001b[0m \u001b[0mthat\u001b[0m \u001b[0mshares\u001b[0m \u001b[0mthe\u001b[0m \u001b[0msame\u001b[0m \u001b[0mmemory\u001b[0m\u001b[1;33m.\u001b[0m\u001b[1;33m\u001b[0m\u001b[0m\n\u001b[0;32m    845\u001b[0m         \"\"\"\n\u001b[1;32m--> 846\u001b[1;33m         \u001b[1;32mreturn\u001b[0m \u001b[0mnp\u001b[0m\u001b[1;33m.\u001b[0m\u001b[0masmatrix\u001b[0m\u001b[1;33m(\u001b[0m\u001b[0mself\u001b[0m\u001b[1;33m.\u001b[0m\u001b[0mtoarray\u001b[0m\u001b[1;33m(\u001b[0m\u001b[0morder\u001b[0m\u001b[1;33m=\u001b[0m\u001b[0morder\u001b[0m\u001b[1;33m,\u001b[0m \u001b[0mout\u001b[0m\u001b[1;33m=\u001b[0m\u001b[0mout\u001b[0m\u001b[1;33m)\u001b[0m\u001b[1;33m)\u001b[0m\u001b[1;33m\u001b[0m\u001b[0m\n\u001b[0m\u001b[0;32m    847\u001b[0m \u001b[1;33m\u001b[0m\u001b[0m\n\u001b[0;32m    848\u001b[0m     \u001b[1;32mdef\u001b[0m \u001b[0mtoarray\u001b[0m\u001b[1;33m(\u001b[0m\u001b[0mself\u001b[0m\u001b[1;33m,\u001b[0m \u001b[0morder\u001b[0m\u001b[1;33m=\u001b[0m\u001b[1;32mNone\u001b[0m\u001b[1;33m,\u001b[0m \u001b[0mout\u001b[0m\u001b[1;33m=\u001b[0m\u001b[1;32mNone\u001b[0m\u001b[1;33m)\u001b[0m\u001b[1;33m:\u001b[0m\u001b[1;33m\u001b[0m\u001b[0m\n",
      "\u001b[1;32m~\\Anaconda3\\lib\\site-packages\\scipy\\sparse\\compressed.py\u001b[0m in \u001b[0;36mtoarray\u001b[1;34m(self, order, out)\u001b[0m\n\u001b[0;32m    945\u001b[0m         \u001b[1;32mif\u001b[0m \u001b[0mout\u001b[0m \u001b[1;32mis\u001b[0m \u001b[1;32mNone\u001b[0m \u001b[1;32mand\u001b[0m \u001b[0morder\u001b[0m \u001b[1;32mis\u001b[0m \u001b[1;32mNone\u001b[0m\u001b[1;33m:\u001b[0m\u001b[1;33m\u001b[0m\u001b[0m\n\u001b[0;32m    946\u001b[0m             \u001b[0morder\u001b[0m \u001b[1;33m=\u001b[0m \u001b[0mself\u001b[0m\u001b[1;33m.\u001b[0m\u001b[0m_swap\u001b[0m\u001b[1;33m(\u001b[0m\u001b[1;34m'cf'\u001b[0m\u001b[1;33m)\u001b[0m\u001b[1;33m[\u001b[0m\u001b[1;36m0\u001b[0m\u001b[1;33m]\u001b[0m\u001b[1;33m\u001b[0m\u001b[0m\n\u001b[1;32m--> 947\u001b[1;33m         \u001b[0mout\u001b[0m \u001b[1;33m=\u001b[0m \u001b[0mself\u001b[0m\u001b[1;33m.\u001b[0m\u001b[0m_process_toarray_args\u001b[0m\u001b[1;33m(\u001b[0m\u001b[0morder\u001b[0m\u001b[1;33m,\u001b[0m \u001b[0mout\u001b[0m\u001b[1;33m)\u001b[0m\u001b[1;33m\u001b[0m\u001b[0m\n\u001b[0m\u001b[0;32m    948\u001b[0m         \u001b[1;32mif\u001b[0m \u001b[1;32mnot\u001b[0m \u001b[1;33m(\u001b[0m\u001b[0mout\u001b[0m\u001b[1;33m.\u001b[0m\u001b[0mflags\u001b[0m\u001b[1;33m.\u001b[0m\u001b[0mc_contiguous\u001b[0m \u001b[1;32mor\u001b[0m \u001b[0mout\u001b[0m\u001b[1;33m.\u001b[0m\u001b[0mflags\u001b[0m\u001b[1;33m.\u001b[0m\u001b[0mf_contiguous\u001b[0m\u001b[1;33m)\u001b[0m\u001b[1;33m:\u001b[0m\u001b[1;33m\u001b[0m\u001b[0m\n\u001b[0;32m    949\u001b[0m             \u001b[1;32mraise\u001b[0m \u001b[0mValueError\u001b[0m\u001b[1;33m(\u001b[0m\u001b[1;34m'Output array must be C or F contiguous'\u001b[0m\u001b[1;33m)\u001b[0m\u001b[1;33m\u001b[0m\u001b[0m\n",
      "\u001b[1;32m~\\Anaconda3\\lib\\site-packages\\scipy\\sparse\\base.py\u001b[0m in \u001b[0;36m_process_toarray_args\u001b[1;34m(self, order, out)\u001b[0m\n\u001b[0;32m   1182\u001b[0m             \u001b[1;32mreturn\u001b[0m \u001b[0mout\u001b[0m\u001b[1;33m\u001b[0m\u001b[0m\n\u001b[0;32m   1183\u001b[0m         \u001b[1;32melse\u001b[0m\u001b[1;33m:\u001b[0m\u001b[1;33m\u001b[0m\u001b[0m\n\u001b[1;32m-> 1184\u001b[1;33m             \u001b[1;32mreturn\u001b[0m \u001b[0mnp\u001b[0m\u001b[1;33m.\u001b[0m\u001b[0mzeros\u001b[0m\u001b[1;33m(\u001b[0m\u001b[0mself\u001b[0m\u001b[1;33m.\u001b[0m\u001b[0mshape\u001b[0m\u001b[1;33m,\u001b[0m \u001b[0mdtype\u001b[0m\u001b[1;33m=\u001b[0m\u001b[0mself\u001b[0m\u001b[1;33m.\u001b[0m\u001b[0mdtype\u001b[0m\u001b[1;33m,\u001b[0m \u001b[0morder\u001b[0m\u001b[1;33m=\u001b[0m\u001b[0morder\u001b[0m\u001b[1;33m)\u001b[0m\u001b[1;33m\u001b[0m\u001b[0m\n\u001b[0m\u001b[0;32m   1185\u001b[0m \u001b[1;33m\u001b[0m\u001b[0m\n\u001b[0;32m   1186\u001b[0m \u001b[1;33m\u001b[0m\u001b[0m\n",
      "\u001b[1;31mMemoryError\u001b[0m: "
     ]
    }
   ],
   "source": [
    "# Store TFIDF vectors in a Pandas DataFrame to investigate further\n",
    "neg_df = pd.DataFrame(neg_vectors.todense(), columns=[tfidf_neg.get_feature_names()])\n",
    "pos_df = pd.DataFrame(pos_vectors.todense(), columns=[tfidf_pos.get_feature_names()])\n",
    "\n",
    "# get mean for each column (word): highest means are most important words\n",
    "col_means_neg = {}\n",
    "for col in neg_df:\n",
    "    col_means_neg[col] = neg_df[col].mean()\n",
    "\n",
    "col_means_pos = {}\n",
    "for col in pos_df:\n",
    "    col_means_pos[col] = pos_df[col].mean()"
   ]
  },
  {
   "cell_type": "code",
   "execution_count": 12,
   "metadata": {
    "scrolled": true
   },
   "outputs": [
    {
     "name": "stdout",
     "output_type": "stream",
     "text": [
      "Top 10 words in POSITIVE reviews:[('great',), ('place',), ('burger',), ('service',), ('order',), ('time',), ('just',), ('chicken',), ('amazing',), ('breakfast',)]\n",
      "Top 10 words in NEGATIVE reviews:[('service',), ('order',), ('place',), ('just',), ('burger',), ('time',), ('minutes',), ('bad',), ('horrible',), ('table',)]\n"
     ]
    }
   ],
   "source": [
    "no_top_words = 10\n",
    "\n",
    "print('Top %d words in POSITIVE reviews:' %no_top_words, end='')\n",
    "print(sorted(col_means_pos, key=col_means_pos.get, reverse=True)[:no_top_words])\n",
    "\n",
    "print('Top %d words in NEGATIVE reviews:' %no_top_words, end='')\n",
    "print(sorted(col_means_neg, key=col_means_neg.get, reverse=True)[:no_top_words])"
   ]
  },
  {
   "cell_type": "code",
   "execution_count": 13,
   "metadata": {},
   "outputs": [],
   "source": [
    "# delete dataframes to save memory\n",
    "del neg_df\n",
    "del pos_df"
   ]
  },
  {
   "cell_type": "code",
   "execution_count": 14,
   "metadata": {},
   "outputs": [
    {
     "name": "stderr",
     "output_type": "stream",
     "text": [
      "C:\\Users\\User\\Anaconda3\\lib\\site-packages\\gensim\\utils.py:1197: UserWarning: detected Windows; aliasing chunkize to chunkize_serial\n",
      "  warnings.warn(\"detected Windows; aliasing chunkize to chunkize_serial\")\n"
     ]
    }
   ],
   "source": [
    "# LSA\n",
    "from gensim import corpora, models, similarities, matutils\n",
    "\n",
    "# Convert sparse matrix of counts to a gensim corpus\n",
    "# Need to transpose it for gensim which wants terms by docs instead of docs by terms\n",
    "tfidf_pos_corpus = matutils.Sparse2Corpus(pos_vectors.transpose())\n",
    "tfidf_neg_corpus = matutils.Sparse2Corpus(neg_vectors.transpose())\n",
    "\n",
    "# Row indices\n",
    "id2word_pos = dict((v,k) for k,v in tfidf_pos.vocabulary_.items())\n",
    "id2word_neg = dict((v,k) for k,v in tfidf_neg.vocabulary_.items())\n",
    "\n",
    "# This is a hack for Python 3!\n",
    "id2word_pos = corpora.Dictionary.from_corpus(tfidf_pos_corpus, id2word=id2word_pos)\n",
    "id2word_neg = corpora.Dictionary.from_corpus(tfidf_neg_corpus, id2word=id2word_neg)"
   ]
  },
  {
   "cell_type": "code",
   "execution_count": 15,
   "metadata": {},
   "outputs": [],
   "source": [
    "# create LSA model\n",
    "num_topics = 7\n",
    "lsi_pos = models.LsiModel(tfidf_pos_corpus, id2word=id2word_pos, num_topics=num_topics)\n",
    "lsi_neg = models.LsiModel(tfidf_neg_corpus, id2word=id2word_neg, num_topics=num_topics)"
   ]
  },
  {
   "cell_type": "code",
   "execution_count": 16,
   "metadata": {},
   "outputs": [
    {
     "data": {
      "image/png": "[encoded data removed]",
      "text/plain": [
       "<Figure size 864x360 with 1 Axes>"
      ]
     },
     "metadata": {},
     "output_type": "display_data"
    }
   ],
   "source": [
    "# elbow plot\n",
    "singular_values_pos = lsi_pos.projection.s.tolist()\n",
    "singular_values_pos_rel = [sv/singular_values_pos[-1] for sv in singular_values_pos]\n",
    "singular_values_neg = lsi_neg.projection.s.tolist()\n",
    "singular_values_neg_rel = [sv/singular_values_neg[-1] for sv in singular_values_neg]\n",
    "\n",
    "plt.style.use('fivethirtyeight')\n",
    "plt.figure(figsize=(12,5))\n",
    "plt.plot(range(len(singular_values_pos)), singular_values_pos_rel, label='Positive Reviews', alpha=1.0)\n",
    "plt.plot(range(len(singular_values_neg)), singular_values_neg_rel, label='Negative Reviews', alpha=0.7)\n",
    "plt.xticks(range(len(singular_values_pos)), range(len(singular_values_pos)))\n",
    "plt.xlabel('Topic #')\n",
    "plt.ylabel('Relative Strength')\n",
    "plt.title('LSI Topic Strengths (Relative)')\n",
    "plt.legend(loc=0, fontsize='medium');"
   ]
  },
  {
   "cell_type": "code",
   "execution_count": 17,
   "metadata": {},
   "outputs": [],
   "source": [
    "topics_to_print = 5"
   ]
  },
  {
   "cell_type": "code",
   "execution_count": 18,
   "metadata": {},
   "outputs": [
    {
     "name": "stdout",
     "output_type": "stream",
     "text": [
      "Top 5 topics for POSITIVE reviews\n",
      "---------------------------------\n",
      "[(0,\n",
      "  '0.250*\"great\" + 0.226*\"burger\" + 0.214*\"place\" + 0.184*\"service\" + '\n",
      "  '0.160*\"order\" + 0.142*\"time\" + 0.135*\"just\" + 0.129*\"chicken\" + '\n",
      "  '0.120*\"breakfast\" + 0.116*\"fries\"'),\n",
      " (1,\n",
      "  '0.786*\"burger\" + 0.292*\"fries\" + -0.205*\"great\" + -0.183*\"breakfast\" + '\n",
      "  '-0.121*\"service\" + -0.104*\"place\" + 0.088*\"truffle\" + 0.087*\"shake\" + '\n",
      "  '0.073*\"cheese\" + -0.073*\"chicken\"'),\n",
      " (2,\n",
      "  '-0.585*\"great\" + 0.244*\"chicken\" + -0.228*\"burger\" + -0.217*\"service\" + '\n",
      "  '0.199*\"order\" + -0.137*\"amazing\" + -0.137*\"awesome\" + -0.129*\"place\" + '\n",
      "  '-0.126*\"atmosphere\" + 0.120*\"fried\"'),\n",
      " (3,\n",
      "  '0.479*\"breakfast\" + -0.234*\"bar\" + 0.209*\"pancakes\" + 0.190*\"eggs\" + '\n",
      "  '-0.172*\"hour\" + -0.165*\"happy\" + 0.162*\"chicken\" + -0.159*\"drinks\" + '\n",
      "  '0.156*\"burger\" + 0.133*\"waffles\"'),\n",
      " (4,\n",
      "  '-0.592*\"chicken\" + 0.375*\"breakfast\" + -0.256*\"great\" + -0.236*\"fried\" + '\n",
      "  '-0.197*\"waffles\" + 0.162*\"pancakes\" + 0.147*\"place\" + -0.139*\"salad\" + '\n",
      "  '0.114*\"wait\" + -0.091*\"amazing\"')]\n"
     ]
    }
   ],
   "source": [
    "# look at top positive topics\n",
    "print('Top %d topics for POSITIVE reviews' %(topics_to_print))\n",
    "print('-'*33)\n",
    "pprint(lsi_pos.show_topics()[0:topics_to_print])"
   ]
  },
  {
   "cell_type": "code",
   "execution_count": 19,
   "metadata": {},
   "outputs": [
    {
     "name": "stdout",
     "output_type": "stream",
     "text": [
      "Top 5 topics for NEGATIVE reviews\n",
      "---------------------------------\n",
      "[(0,\n",
      "  '0.238*\"order\" + 0.233*\"service\" + 0.191*\"place\" + 0.173*\"just\" + '\n",
      "  '0.168*\"minutes\" + 0.158*\"time\" + 0.152*\"burger\" + 0.122*\"bad\" + '\n",
      "  '0.121*\"table\" + 0.117*\"took\"'),\n",
      " (1,\n",
      "  '0.659*\"burger\" + 0.258*\"fries\" + -0.220*\"minutes\" + -0.171*\"service\" + '\n",
      "  '0.127*\"cheese\" + -0.126*\"table\" + -0.122*\"waited\" + 0.117*\"chicken\" + '\n",
      "  '-0.092*\"server\" + -0.083*\"manager\"'),\n",
      " (2,\n",
      "  '0.529*\"burger\" + 0.289*\"minutes\" + -0.216*\"chicken\" + -0.202*\"buffet\" + '\n",
      "  '-0.168*\"breakfast\" + -0.168*\"place\" + 0.158*\"waited\" + 0.153*\"order\" + '\n",
      "  '0.151*\"fries\" + 0.117*\"table\"'),\n",
      " (3,\n",
      "  '0.434*\"service\" + -0.367*\"order\" + -0.300*\"chicken\" + 0.255*\"horrible\" + '\n",
      "  '0.217*\"place\" + 0.217*\"burger\" + 0.132*\"bad\" + 0.129*\"terrible\" + '\n",
      "  '-0.124*\"salad\" + 0.120*\"rude\"'),\n",
      " (4,\n",
      "  '-0.448*\"service\" + -0.311*\"horrible\" + -0.244*\"chicken\" + 0.214*\"bar\" + '\n",
      "  '-0.196*\"terrible\" + -0.180*\"order\" + 0.179*\"place\" + -0.144*\"cold\" + '\n",
      "  '0.134*\"people\" + -0.132*\"took\"')]\n"
     ]
    }
   ],
   "source": [
    "\n",
    "# look at top negative topics\n",
    "print('Top %d topics for NEGATIVE reviews' %(topics_to_print))\n",
    "print('-'*33)\n",
    "pprint(lsi_neg.show_topics()[0:topics_to_print])"
   ]
  },
  {
   "cell_type": "code",
   "execution_count": 20,
   "metadata": {},
   "outputs": [
    {
     "name": "stdout",
     "output_type": "stream",
     "text": [
      "Wall time: 3.9 s\n"
     ]
    }
   ],
   "source": [
    "\n",
    "%%time\n",
    "# negative values in LSA topics are annoying\n",
    "# let's see if we can fix that with NMF\n",
    "from sklearn.decomposition import NMF\n",
    "\n",
    "# change num_topics\n",
    "num_topics = 6\n",
    "\n",
    "nmf_pos = NMF(n_components=num_topics)\n",
    "W_pos = nmf_pos.fit_transform(pos_vectors)\n",
    "H_pos = nmf_pos.components_\n",
    "\n",
    "nmf_neg = NMF(n_components=num_topics)\n",
    "W_neg = nmf_neg.fit_transform(neg_vectors)\n",
    "H_neg = nmf_neg.components_"
   ]
  },
  {
   "cell_type": "code",
   "execution_count": 21,
   "metadata": {},
   "outputs": [
    {
     "name": "stdout",
     "output_type": "stream",
     "text": [
      "Top topics + words for POSITIVE reviews\n",
      "---------------------------------------\n",
      "Topic 0:   1.062*order, 0.972*just, 0.881*time, 0.668*bar, 0.630*pretty, 0.595*table\n",
      "Topic 1:   3.136*burger, 1.174*fries, 0.353*truffle, 0.343*shake, 0.318*cheese, 0.280*onion\n",
      "Topic 2:   2.834*great, 1.232*service, 0.491*atmosphere, 0.400*awesome, 0.366*excellent, 0.274*server\n",
      "Topic 3:   2.148*breakfast, 0.899*pancakes, 0.803*eggs, 0.495*toast, 0.450*coffee, 0.435*hash\n",
      "Topic 4:   2.242*chicken, 0.984*fried, 0.847*waffles, 0.437*salad, 0.310*cheese, 0.301*delicious\n",
      "Topic 5:   1.783*place, 1.457*love, 1.271*amazing, 0.599*staff, 0.545*friendly, 0.465*awesome\n",
      "\n",
      "Top topics + words for NEGATIVE reviews\n",
      "---------------------------------------\n",
      "Topic 0:   1.840*place, 1.114*just, 0.884*bar, 0.629*people, 0.571*time, 0.493*bartender\n",
      "Topic 1:   3.092*burger, 1.066*fries, 0.337*cheese, 0.285*shake, 0.215*medium, 0.187*order\n",
      "Topic 2:   1.648*minutes, 1.449*order, 1.007*table, 0.875*waited, 0.850*took, 0.794*server\n",
      "Topic 3:   2.433*service, 1.311*horrible, 0.865*terrible, 0.600*bad, 0.598*slow, 0.530*customer\n",
      "Topic 4:   1.955*chicken, 0.849*order, 0.832*salad, 0.585*sandwich, 0.515*cheese, 0.509*fried\n",
      "Topic 5:   1.274*breakfast, 1.168*buffet, 0.793*eggs, 0.471*price, 0.373*pancakes, 0.371*quality\n"
     ]
    }
   ],
   "source": [
    "def display_topics(model, feature_names, num_topics, no_top_words):\n",
    "    for topic_idx, topic in enumerate(model.components_):\n",
    "        if topic_idx < num_topics:\n",
    "            print(\"{:11}\".format(\"Topic %d:\" %(topic_idx)), end='')\n",
    "            print(\", \".join(['{:04.3f}*'.format(topic[i])+feature_names[i] \\\n",
    "                             for i in topic.argsort()[:-no_top_words-1:-1]]))\n",
    "\n",
    "no_topics = num_topics\n",
    "no_top_words = 6\n",
    "\n",
    "print('Top topics + words for POSITIVE reviews')\n",
    "print('-'*39)\n",
    "display_topics(nmf_pos, tfidf_pos.get_feature_names(), no_topics, no_top_words)\n",
    "\n",
    "print('\\nTop topics + words for NEGATIVE reviews')\n",
    "print('-'*39)\n",
    "display_topics(nmf_neg, tfidf_neg.get_feature_names(), no_topics, no_top_words)"
   ]
  },
  {
   "cell_type": "code",
   "execution_count": 22,
   "metadata": {},
   "outputs": [
    {
     "name": "stdout",
     "output_type": "stream",
     "text": [
      "3553\n",
      "Fantastic food, great price, great atmosphere, great service, HUGE portions of delicious hashes, benedicts, sandwiches and other treats. Biscuits with FRESH jam are unreal. The banana brown sugar flapjack was delicious. It was enormous and had a crispy crust of melted sugar on it like a crême bruleé with large slices of ripe banana in the batter...it was 15\" across! Corned beef hash was incredible. Even the coffee was excellent. High recommendation - I do not give 4 stars lightly.\n"
     ]
    }
   ],
   "source": [
    "# look at a random positive review\n",
    "review_num = np.random.randint(0, high=len(random_pos))\n",
    "print(review_num)\n",
    "print(random_pos[review_num])\n"
   ]
  },
  {
   "cell_type": "code",
   "execution_count": 23,
   "metadata": {},
   "outputs": [
    {
     "name": "stdout",
     "output_type": "stream",
     "text": [
      "5183\n",
      "Place is nice, people are nice but the food sucks balls .. no flavor whatsoever. Ordered the spinach dip and it taste so bad, the chicken fingers my sons order were hard to bite and stringy (double yuck) I would go just for the experience of those alcohol drinks. My husband order a bubbling drink and it taste like big o fountain soda but that was it. I wouldn't go back for the food that's for sure.  Oh their super fast to bring out the food like VERY fast.  We were shocked maybe that's why the food tasted so bad .. stale French fries found at Sugar factory\n"
     ]
    }
   ],
   "source": [
    "# look at a random negative review\n",
    "review_num = np.random.randint(0, high=len(random_neg))\n",
    "print(review_num)\n",
    "print(random_neg[review_num])\n"
   ]
  },
  {
   "cell_type": "code",
   "execution_count": 24,
   "metadata": {},
   "outputs": [],
   "source": [
    "\n",
    "# compute cosine similarities of this review with all other reviews in the new space\n",
    "import sklearn.metrics.pairwise as smp\n",
    "\n",
    "cosines = {}\n",
    "for ind, review in enumerate(W_pos):\n",
    "    similarity = smp.cosine_similarity(W_pos[review_num].reshape(1,-1), review.reshape(1,-1))\n",
    "    cosines[ind] = similarity[0][0]"
   ]
  },
  {
   "cell_type": "code",
   "execution_count": 25,
   "metadata": {},
   "outputs": [
    {
     "name": "stdout",
     "output_type": "stream",
     "text": [
      "--------------------------------------------------\n",
      ">> Similarity 1.000\n",
      "Great little joint. For a holiday weekend and only having one server for the entire restaurant she did a great job. Poor management for only scheduling only 1 until 830.\n",
      "--------------------------------------------------\n",
      ">> Similarity 1.000\n",
      "Checked our container park and had a great time.  Stopped at the Perch for some drinks. Shauna was super cool and took care of us.  If your in the area then you must check out the Perch.  Great views and great food too\n",
      "--------------------------------------------------\n",
      ">> Similarity 1.000\n",
      "Checked our container park and had a great time.  Stopped at the Perch for some drinks. Shauna was super cool and took care of us.  If your in the area then you must check out the Perch.  Great views and great food too\n",
      "--------------------------------------------------\n"
     ]
    }
   ],
   "source": [
    "\n",
    "# get top 3 matching reviews\n",
    "for n in sorted(cosines, key=cosines.get, reverse=True)[1:4]:\n",
    "    print('-'*50)\n",
    "    print('>> Similarity {:.3f}'.format(cosines[n]))\n",
    "    print(random_pos[n])\n",
    "print('-'*50)"
   ]
  },
  {
   "cell_type": "code",
   "execution_count": 26,
   "metadata": {},
   "outputs": [],
   "source": [
    "from sklearn.feature_extraction.text import CountVectorizer\n",
    "\n",
    "# Create a vectorizer object to generate term document counts\n",
    "cv_pos = CountVectorizer(stop_words=stop_words, min_df=10, max_df=0.5, \n",
    "                        ngram_range=(1,1), token_pattern='[a-z][a-z]+')\n",
    "\n",
    "cv_neg = CountVectorizer(stop_words=stop_words, min_df=10, max_df=0.5, \n",
    "                        ngram_range=(1,1), token_pattern='[a-z][a-z]+')\n",
    "\n",
    "# Get random subset of reviews\n",
    "np.random.seed(38)\n",
    "num_reviews = 15000\n",
    "cv_random_neg = np.random.choice(neg_reviews, size=num_reviews)\n",
    "cv_random_pos = np.random.choice(pos_reviews, size=num_reviews)\n",
    "\n",
    "# replace words from defined dictionary 'dicty'\n",
    "cv_random_neg = [replace_words(w, dicty) for w in cv_random_neg]\n",
    "cv_random_pos = [replace_words(w, dicty) for w in cv_random_pos]\n",
    "\n",
    "# Get the cv vectors\n",
    "cv_neg_vectors = cv_neg.fit_transform(cv_random_neg).transpose()\n",
    "cv_pos_vectors = cv_pos.fit_transform(cv_random_pos).transpose()"
   ]
  },
  {
   "cell_type": "code",
   "execution_count": 27,
   "metadata": {},
   "outputs": [],
   "source": [
    "# Convert sparse matrix of counts to a gensim corpus\n",
    "corpus_neg = matutils.Sparse2Corpus(cv_neg_vectors)\n",
    "corpus_pos = matutils.Sparse2Corpus(cv_pos_vectors)\n",
    "\n",
    "# save a mapping (dict) of row id to word (token) for later use by gensim \n",
    "id2word_cv_pos = dict((v, k) for k, v in cv_pos.vocabulary_.items())\n",
    "id2word_cv_neg = dict((v, k) for k, v in cv_neg.vocabulary_.items())"
   ]
  },
  {
   "cell_type": "code",
   "execution_count": 28,
   "metadata": {},
   "outputs": [
    {
     "name": "stdout",
     "output_type": "stream",
     "text": [
      "Wall time: 2min 5s\n"
     ]
    }
   ],
   "source": [
    "%%time\n",
    "# create lda multicore model\n",
    "lda_pos = models.ldamulticore.LdaMulticore(corpus=corpus_pos, num_topics=5, \n",
    "                                           id2word=id2word_cv_pos, passes=10, workers=15)\n",
    "lda_neg = models.ldamulticore.LdaMulticore(corpus=corpus_neg, num_topics=5, \n",
    "                                           id2word=id2word_cv_neg, passes=10, workers=15)"
   ]
  },
  {
   "cell_type": "code",
   "execution_count": 29,
   "metadata": {},
   "outputs": [
    {
     "name": "stdout",
     "output_type": "stream",
     "text": [
      "Top topics + words for POSITIVE reviews\n",
      "---------------------------------------\n",
      "[(0,\n",
      "  '0.012*\"burger\" + 0.011*\"order\" + 0.009*\"fries\" + 0.009*\"great\" + '\n",
      "  '0.007*\"just\" + 0.007*\"cheese\" + 0.007*\"place\"'),\n",
      " (1,\n",
      "  '0.012*\"service\" + 0.011*\"time\" + 0.011*\"just\" + 0.010*\"great\" + '\n",
      "  '0.010*\"order\" + 0.008*\"place\" + 0.007*\"table\"'),\n",
      " (2,\n",
      "  '0.016*\"breakfast\" + 0.015*\"order\" + 0.014*\"place\" + 0.012*\"great\" + '\n",
      "  '0.010*\"chicken\" + 0.009*\"service\" + 0.009*\"just\"'),\n",
      " (3,\n",
      "  '0.023*\"great\" + 0.021*\"place\" + 0.011*\"bar\" + 0.011*\"service\" + '\n",
      "  '0.008*\"drinks\" + 0.007*\"happy\" + 0.007*\"nice\"'),\n",
      " (4,\n",
      "  '0.032*\"burger\" + 0.013*\"place\" + 0.013*\"service\" + 0.012*\"great\" + '\n",
      "  '0.012*\"fries\" + 0.010*\"just\" + 0.009*\"order\"')]\n",
      "\n",
      "Top topics + words for NEGATIVE reviews\n",
      "---------------------------------------\n",
      "[(0,\n",
      "  '0.011*\"service\" + 0.010*\"place\" + 0.009*\"just\" + 0.009*\"bar\" + 0.008*\"time\" '\n",
      "  '+ 0.008*\"table\" + 0.007*\"rude\"'),\n",
      " (1,\n",
      "  '0.017*\"burger\" + 0.014*\"place\" + 0.011*\"order\" + 0.011*\"chicken\" + '\n",
      "  '0.010*\"just\" + 0.009*\"fries\" + 0.008*\"service\"'),\n",
      " (2,\n",
      "  '0.030*\"service\" + 0.021*\"order\" + 0.014*\"just\" + 0.012*\"time\" + '\n",
      "  '0.011*\"server\" + 0.010*\"asked\" + 0.010*\"took\"'),\n",
      " (3,\n",
      "  '0.021*\"place\" + 0.014*\"just\" + 0.010*\"service\" + 0.008*\"order\" + '\n",
      "  '0.008*\"time\" + 0.007*\"burger\" + 0.006*\"bar\"'),\n",
      " (4,\n",
      "  '0.029*\"order\" + 0.018*\"minutes\" + 0.012*\"time\" + 0.011*\"manager\" + '\n",
      "  '0.010*\"service\" + 0.009*\"place\" + 0.009*\"wait\"')]\n"
     ]
    }
   ],
   "source": [
    "print('Top topics + words for POSITIVE reviews')\n",
    "print('-'*39)\n",
    "pprint(lda_pos.print_topics(num_words=7))\n",
    "\n",
    "print('\\nTop topics + words for NEGATIVE reviews')\n",
    "print('-'*39)\n",
    "pprint(lda_neg.print_topics(num_words=7))"
   ]
  },
  {
   "cell_type": "markdown",
   "metadata": {},
   "source": [
    "## Continuing with NMF"
   ]
  },
  {
   "cell_type": "code",
   "execution_count": 30,
   "metadata": {},
   "outputs": [
    {
     "name": "stdout",
     "output_type": "stream",
     "text": [
      "Top topics + words for POSITIVE reviews\n",
      "---------------------------------------\n",
      "Topic 0:   1.062*order, 0.972*just, 0.881*time, 0.668*bar, 0.630*pretty, 0.595*table\n",
      "Topic 1:   3.136*burger, 1.174*fries, 0.353*truffle, 0.343*shake, 0.318*cheese, 0.280*onion\n",
      "Topic 2:   2.834*great, 1.232*service, 0.491*atmosphere, 0.400*awesome, 0.366*excellent, 0.274*server\n",
      "Topic 3:   2.148*breakfast, 0.899*pancakes, 0.803*eggs, 0.495*toast, 0.450*coffee, 0.435*hash\n",
      "Topic 4:   2.242*chicken, 0.984*fried, 0.847*waffles, 0.437*salad, 0.310*cheese, 0.301*delicious\n",
      "Topic 5:   1.783*place, 1.457*love, 1.271*amazing, 0.599*staff, 0.545*friendly, 0.465*awesome\n"
     ]
    }
   ],
   "source": [
    "# let's remind ourselves of the POSITIVE topics\n",
    "print('Top topics + words for POSITIVE reviews')\n",
    "print('-'*39)\n",
    "display_topics(nmf_pos, tfidf_pos.get_feature_names(), no_topics, no_top_words)"
   ]
  },
  {
   "cell_type": "code",
   "execution_count": 31,
   "metadata": {},
   "outputs": [
    {
     "name": "stdout",
     "output_type": "stream",
     "text": [
      "Positive Review #254\n",
      "-------------------------\n",
      "Big portion plates!\r\n",
      "Great food!\r\n",
      "The lounge is relaxing and their alcoholic drinks are good!\r\n",
      "I always have to make a stop here when I'm in Vegas\n",
      "-------------------------\n",
      "Topic 2: 0.0371\n",
      "Topic 0: 0.0113\n",
      "Topic 4: 0.0037\n",
      "Topic 3: 0.0003\n",
      "Topic 1: 0.0000\n",
      "Topic 5: 0.0000\n"
     ]
    }
   ],
   "source": [
    "# we can investigate a random positive review and see how it's distributed across those topics\n",
    "review_num = np.random.randint(0, high=len(random_pos))\n",
    "print('Positive Review #%d' %review_num)\n",
    "print('-'*25)\n",
    "print(random_pos[review_num])\n",
    "print('-'*25)\n",
    "topic_dict = {}\n",
    "for ind, w in enumerate(W_pos[review_num]):\n",
    "    topic_dict[ind] = w\n",
    "for k in sorted(topic_dict, key=topic_dict.get, reverse=True):\n",
    "     print('Topic {}: {:.4f}'.format(k, topic_dict[k]))"
   ]
  },
  {
   "cell_type": "code",
   "execution_count": 32,
   "metadata": {},
   "outputs": [
    {
     "name": "stdout",
     "output_type": "stream",
     "text": [
      "Top topics + words for NEGATIVE reviews\n",
      "---------------------------------------\n",
      "Topic 0:   1.840*place, 1.114*just, 0.884*bar, 0.629*people, 0.571*time, 0.493*bartender\n",
      "Topic 1:   3.092*burger, 1.066*fries, 0.337*cheese, 0.285*shake, 0.215*medium, 0.187*order\n",
      "Topic 2:   1.648*minutes, 1.449*order, 1.007*table, 0.875*waited, 0.850*took, 0.794*server\n",
      "Topic 3:   2.433*service, 1.311*horrible, 0.865*terrible, 0.600*bad, 0.598*slow, 0.530*customer\n",
      "Topic 4:   1.955*chicken, 0.849*order, 0.832*salad, 0.585*sandwich, 0.515*cheese, 0.509*fried\n",
      "Topic 5:   1.274*breakfast, 1.168*buffet, 0.793*eggs, 0.471*price, 0.373*pancakes, 0.371*quality\n"
     ]
    }
   ],
   "source": [
    "print('Top topics + words for NEGATIVE reviews')\n",
    "print('-'*39)\n",
    "display_topics(nmf_neg, tfidf_neg.get_feature_names(), no_topics, no_top_words)"
   ]
  },
  {
   "cell_type": "code",
   "execution_count": 33,
   "metadata": {},
   "outputs": [
    {
     "name": "stdout",
     "output_type": "stream",
     "text": [
      "Negative Review #14937\n",
      "-------------------------\n",
      "The most impressive thing about this restaurant is the decor. Beautifully decorated, swanky bar, eye catching touches everywhere but unfortunately, that's where it ends. Everything is else is lackluster. \r\n",
      "\r\n",
      "The service isn't good. They all look like they'd rather be somewhere else. Our busser was more attentive than our waiter. He never delivered the dishes or checked on our food but he popped up every 30 seconds to pick up the signed check. For these price you would think they would bring it with either service or food but the food was pretty average too. It reminds me of a high end cafe. I had a three course meal and there isn't one thing that stood out. The beet salad was blah and our apple crostata came with no ice cream and was so thick all you tasted was dough. When you're not delicate or rush pastry, it shows. I think the most disappointing part of our meal was having to eat around cigarette smokers on nearby tables (using the restaurant cups for ashtrays). It's gross having someone blow smoke when you're trying to take a bite and I don't know if it was allowed but no staff said anything and they were very aware of it. Judging by the loud EDM music, I think they are trying to cater to a younger, club crowd. Awkward for families and a romantic date.\n",
      "-------------------------\n",
      "Topic 0: 0.0286\n",
      "Topic 4: 0.0160\n",
      "Topic 3: 0.0146\n",
      "Topic 5: 0.0130\n",
      "Topic 2: 0.0050\n",
      "Topic 1: 0.0000\n"
     ]
    }
   ],
   "source": [
    "# now investigate a random negative review and see how it's distributed across those topics\n",
    "review_num = np.random.randint(0, high=len(random_neg))\n",
    "print('Negative Review #%d' %review_num)\n",
    "print('-'*25)\n",
    "print(random_neg[review_num])\n",
    "print('-'*25)\n",
    "topic_dict = {}\n",
    "for ind, w in enumerate(W_neg[review_num]):\n",
    "    topic_dict[ind] = w\n",
    "for k in sorted(topic_dict, key=topic_dict.get, reverse=True):\n",
    "     print('Topic {}: {:.4f}'.format(k, topic_dict[k]))"
   ]
  },
  {
   "cell_type": "markdown",
   "metadata": {},
   "source": [
    "## Topic Modeling All Reviews \n",
    "At this point, we can see that our topics are relatively interpretable and match along with the reviews they're trying to categorize. Let's proceed with topic modeling all reviews and businesses using NMF."
   ]
  },
  {
   "cell_type": "code",
   "execution_count": 34,
   "metadata": {},
   "outputs": [
    {
     "name": "stdout",
     "output_type": "stream",
     "text": [
      "Postive Reviews:  182,678\n",
      "Negative Reviews:  28,209\n"
     ]
    }
   ],
   "source": [
    "print('Postive Reviews:  {:,}'.format(len(pos_reviews)))\n",
    "print('Negative Reviews:  {:,}'.format(len(neg_reviews)))"
   ]
  },
  {
   "cell_type": "code",
   "execution_count": 35,
   "metadata": {},
   "outputs": [
    {
     "name": "stdout",
     "output_type": "stream",
     "text": [
      "Wall time: 13.4 s\n"
     ]
    }
   ],
   "source": [
    "%%time\n",
    "# Create a vectorizer object to generate term document counts\n",
    "tfidf_pos = TfidfVectorizer(stop_words=stop_words, min_df=10, max_df=0.5, \n",
    "                        ngram_range=(1,1), token_pattern='[a-z][a-z]+')\n",
    "\n",
    "tfidf_neg = TfidfVectorizer(stop_words=stop_words, min_df=10, max_df=0.5, \n",
    "                        ngram_range=(1,1), token_pattern='[a-z][a-z]+')\n",
    "\n",
    "# replace words with defined dictionary 'dicty'\n",
    "pos_reviews = [replace_words(w, dicty) for w in pos_reviews]\n",
    "neg_reviews = [replace_words(w, dicty) for w in neg_reviews]\n",
    "\n",
    "# Get the vectors\n",
    "neg_vectors = tfidf_neg.fit_transform(neg_reviews)\n",
    "pos_vectors = tfidf_pos.fit_transform(pos_reviews)"
   ]
  },
  {
   "cell_type": "code",
   "execution_count": 36,
   "metadata": {},
   "outputs": [
    {
     "name": "stdout",
     "output_type": "stream",
     "text": [
      "Wall time: 13.6 s\n"
     ]
    }
   ],
   "source": [
    "%%time\n",
    "# NMF for all reviews\n",
    "from sklearn.decomposition import NMF\n",
    "\n",
    "# change num_topics\n",
    "num_topics = 6\n",
    "\n",
    "nmf_pos = NMF(n_components=num_topics)\n",
    "W_pos = nmf_pos.fit_transform(pos_vectors)\n",
    "H_pos = nmf_pos.components_\n",
    "\n",
    "nmf_neg = NMF(n_components=num_topics)\n",
    "W_neg = nmf_neg.fit_transform(neg_vectors)\n",
    "H_neg = nmf_neg.components_"
   ]
  },
  {
   "cell_type": "code",
   "execution_count": 37,
   "metadata": {},
   "outputs": [
    {
     "name": "stdout",
     "output_type": "stream",
     "text": [
      "Topics for POSITIVE reviews\n",
      "---------------------------------------\n",
      "Topic 0:   1.936*order, 1.680*just, 1.460*time, 1.087*bar, 1.068*pretty, 1.009*table\n",
      "Topic 1:   5.386*burger, 2.011*fries, 0.619*shake, 0.591*cheese, 0.583*truffle, 0.463*onion\n",
      "Topic 2:   4.853*great, 2.073*service, 0.709*atmosphere, 0.599*excellent, 0.548*awesome, 0.458*price\n",
      "Topic 3:   3.617*breakfast, 1.466*pancakes, 1.393*eggs, 0.870*toast, 0.745*coffee, 0.737*hash\n",
      "Topic 4:   3.747*chicken, 1.626*fried, 1.406*waffles, 0.690*salad, 0.622*cheese, 0.555*sandwich\n",
      "Topic 5:   2.940*place, 1.996*love, 1.899*amazing, 1.378*staff, 1.288*friendly, 0.954*best\n",
      "\n",
      "Topics for NEGATIVE reviews\n",
      "---------------------------------------\n",
      "Topic 0:   1.835*place, 1.241*just, 1.008*bar, 0.758*time, 0.694*people, 0.559*night\n",
      "Topic 1:   3.248*burger, 1.192*fries, 0.386*cheese, 0.349*shake, 0.221*medium, 0.194*shack\n",
      "Topic 2:   1.825*minutes, 1.629*order, 1.039*table, 0.949*took, 0.924*waited, 0.862*server\n",
      "Topic 3:   1.965*chicken, 0.856*salad, 0.817*order, 0.591*sandwich, 0.515*cheese, 0.491*fried\n",
      "Topic 4:   2.616*service, 1.271*horrible, 0.879*terrible, 0.730*bad, 0.666*slow, 0.591*worst\n",
      "Topic 5:   1.466*breakfast, 1.301*buffet, 0.867*eggs, 0.498*price, 0.465*coffee, 0.423*pancakes\n"
     ]
    }
   ],
   "source": [
    "no_topics = num_topics\n",
    "no_top_words = 6\n",
    "\n",
    "print('Topics for POSITIVE reviews')\n",
    "print('-'*39)\n",
    "display_topics(nmf_pos, tfidf_pos.get_feature_names(), no_topics, no_top_words)\n",
    "\n",
    "print('\\nTopics for NEGATIVE reviews')\n",
    "print('-'*39)\n",
    "display_topics(nmf_neg, tfidf_neg.get_feature_names(), no_topics, no_top_words)"
   ]
  },
  {
   "cell_type": "code",
   "execution_count": 38,
   "metadata": {},
   "outputs": [],
   "source": [
    "# create topic dictionaries to summarize the topic meanings\n",
    "pos_topics = {0:'waiting_time', 1:'burger/fries', 2:'great_service', \n",
    "              3:'breakfast/pancakes', 4:'chicken/waffles', 5:'location'}\n",
    "\n",
    "neg_topics = {0:'location/bar', 1:'burger/fries', 2:'waiting_time', \n",
    "              3:'chicken/salad', 4:'bad_service', 5:'breakfast/price'}"
   ]
  },
  {
   "cell_type": "code",
   "execution_count": 74,
   "metadata": {},
   "outputs": [
    {
     "name": "stdout",
     "output_type": "stream",
     "text": [
      "Topic Dictionaries for POSITIVE reviews\n",
      "---------------------------------------\n",
      "{0: 'waiting_time', 1: 'burger/fries', 2: 'great_service', 3: 'breakfast/pancakes', 4: 'chicken/waffles', 5: 'location'}\n",
      "\n",
      "\n",
      "Topic Dictionaries for NEGATIVE reviews\n",
      "---------------------------------------\n",
      "{0: 'location/bar', 1: 'burger/fries', 2: 'waiting_time', 3: 'chicken/salad', 4: 'bad_service', 5: 'breakfast/price'}\n"
     ]
    }
   ],
   "source": [
    "print('Topic Dictionaries for POSITIVE reviews')\n",
    "print('-'*39)\n",
    "print(pos_topics)\n",
    "\n",
    "print('')\n",
    "print('')\n",
    "\n",
    "print('Topic Dictionaries for NEGATIVE reviews')\n",
    "print('-'*39)\n",
    "print(neg_topics)"
   ]
  },
  {
   "cell_type": "markdown",
   "metadata": {},
   "source": [
    "## Adding Topic Weights to Pandas DataFrame"
   ]
  },
  {
   "cell_type": "code",
   "execution_count": 39,
   "metadata": {},
   "outputs": [],
   "source": [
    "# we create dataframes for positive & negative reviews that we can\n",
    "# later add topic information to\n",
    "df_pos = reviews_df[['business_id', 'stars', 'text', 'review_length']][reviews_df.stars>3].reset_index()\n",
    "df_neg = reviews_df[['business_id', 'stars', 'text', 'review_length']][reviews_df.stars<3].reset_index()\n",
    "df_pos.drop(labels='index', axis=1, inplace=True)\n",
    "df_neg.drop(labels='index', axis=1, inplace=True)"
   ]
  },
  {
   "cell_type": "code",
   "execution_count": 40,
   "metadata": {},
   "outputs": [
    {
     "name": "stdout",
     "output_type": "stream",
     "text": [
      "Topic weights :  [0.00719556 0.         0.         0.         0.00094942 0.01439414]\n",
      "Sum of weights:  0.022539116548411214\n"
     ]
    }
   ],
   "source": [
    "print('Topic weights : ', W_pos[0])\n",
    "print('Sum of weights: ', W_pos[0].sum())"
   ]
  },
  {
   "cell_type": "code",
   "execution_count": 41,
   "metadata": {},
   "outputs": [
    {
     "name": "stdout",
     "output_type": "stream",
     "text": [
      "Normalized Topic weights :  [[0.31924755 0.         0.         0.         0.04212326 0.63862918]]\n",
      "Sum of normalized weights:  1.0\n"
     ]
    }
   ],
   "source": [
    "from sklearn.preprocessing import normalize\n",
    "print('Normalized Topic weights : ', normalize(W_pos[0].reshape(1,-1), norm='l1'))\n",
    "print('Sum of normalized weights: ', normalize(W_pos[0].reshape(1,-1), norm='l1').sum())"
   ]
  },
  {
   "cell_type": "code",
   "execution_count": 42,
   "metadata": {},
   "outputs": [],
   "source": [
    "# add normalized topic weights to each review\n",
    "df_pos = pd.concat([df_pos, pd.DataFrame(normalize(W_pos, norm='l1'))], axis=1)\n",
    "df_neg = pd.concat([df_neg, pd.DataFrame(normalize(W_neg, norm='l1'))], axis=1)"
   ]
  },
  {
   "cell_type": "code",
   "execution_count": 43,
   "metadata": {},
   "outputs": [
    {
     "data": {
      "text/html": [
       "<div>\n",
       "<style scoped>\n",
       "    .dataframe tbody tr th:only-of-type {\n",
       "        vertical-align: middle;\n",
       "    }\n",
       "\n",
       "    .dataframe tbody tr th {\n",
       "        vertical-align: top;\n",
       "    }\n",
       "\n",
       "    .dataframe thead th {\n",
       "        text-align: right;\n",
       "    }\n",
       "</style>\n",
       "<table border=\"1\" class=\"dataframe\">\n",
       "  <thead>\n",
       "    <tr style=\"text-align: right;\">\n",
       "      <th></th>\n",
       "      <th>business_id</th>\n",
       "      <th>stars</th>\n",
       "      <th>text</th>\n",
       "      <th>review_length</th>\n",
       "      <th>0</th>\n",
       "      <th>1</th>\n",
       "      <th>2</th>\n",
       "      <th>3</th>\n",
       "      <th>4</th>\n",
       "      <th>5</th>\n",
       "    </tr>\n",
       "  </thead>\n",
       "  <tbody>\n",
       "    <tr>\n",
       "      <th>0</th>\n",
       "      <td>jtQARsP6P-LbkyjbO1qNGg</td>\n",
       "      <td>1.0</td>\n",
       "      <td>Terrible. Dry corn bread. Rib tips were all fa...</td>\n",
       "      <td>156</td>\n",
       "      <td>0.000000</td>\n",
       "      <td>0.060127</td>\n",
       "      <td>0.000000</td>\n",
       "      <td>0.599410</td>\n",
       "      <td>0.196394</td>\n",
       "      <td>0.144069</td>\n",
       "    </tr>\n",
       "    <tr>\n",
       "      <th>1</th>\n",
       "      <td>faPVqws-x-5k2CQKDNtHxw</td>\n",
       "      <td>1.0</td>\n",
       "      <td>People please...the only good thing about this...</td>\n",
       "      <td>622</td>\n",
       "      <td>0.349441</td>\n",
       "      <td>0.044854</td>\n",
       "      <td>0.209831</td>\n",
       "      <td>0.323839</td>\n",
       "      <td>0.000000</td>\n",
       "      <td>0.072036</td>\n",
       "    </tr>\n",
       "    <tr>\n",
       "      <th>2</th>\n",
       "      <td>ZtsnwjxjzMUI6tDZNrJUeA</td>\n",
       "      <td>1.0</td>\n",
       "      <td>If there was an option to give this place nega...</td>\n",
       "      <td>734</td>\n",
       "      <td>0.614153</td>\n",
       "      <td>0.000000</td>\n",
       "      <td>0.275785</td>\n",
       "      <td>0.000000</td>\n",
       "      <td>0.110061</td>\n",
       "      <td>0.000000</td>\n",
       "    </tr>\n",
       "    <tr>\n",
       "      <th>3</th>\n",
       "      <td>NvKNe9DnQavC9GstglcBJQ</td>\n",
       "      <td>1.0</td>\n",
       "      <td>My friends and I went into Grand Lux Cafe at t...</td>\n",
       "      <td>580</td>\n",
       "      <td>0.058744</td>\n",
       "      <td>0.242112</td>\n",
       "      <td>0.489316</td>\n",
       "      <td>0.000000</td>\n",
       "      <td>0.209828</td>\n",
       "      <td>0.000000</td>\n",
       "    </tr>\n",
       "    <tr>\n",
       "      <th>4</th>\n",
       "      <td>jdAdf7keZac1idbgNKG2pw</td>\n",
       "      <td>1.0</td>\n",
       "      <td>Went with my daughter tonight and was refused ...</td>\n",
       "      <td>500</td>\n",
       "      <td>0.217431</td>\n",
       "      <td>0.762437</td>\n",
       "      <td>0.000000</td>\n",
       "      <td>0.000000</td>\n",
       "      <td>0.000000</td>\n",
       "      <td>0.020132</td>\n",
       "    </tr>\n",
       "  </tbody>\n",
       "</table>\n",
       "</div>"
      ],
      "text/plain": [
       "              business_id  stars  \\\n",
       "0  jtQARsP6P-LbkyjbO1qNGg    1.0   \n",
       "1  faPVqws-x-5k2CQKDNtHxw    1.0   \n",
       "2  ZtsnwjxjzMUI6tDZNrJUeA    1.0   \n",
       "3  NvKNe9DnQavC9GstglcBJQ    1.0   \n",
       "4  jdAdf7keZac1idbgNKG2pw    1.0   \n",
       "\n",
       "                                                text  review_length         0  \\\n",
       "0  Terrible. Dry corn bread. Rib tips were all fa...            156  0.000000   \n",
       "1  People please...the only good thing about this...            622  0.349441   \n",
       "2  If there was an option to give this place nega...            734  0.614153   \n",
       "3  My friends and I went into Grand Lux Cafe at t...            580  0.058744   \n",
       "4  Went with my daughter tonight and was refused ...            500  0.217431   \n",
       "\n",
       "          1         2         3         4         5  \n",
       "0  0.060127  0.000000  0.599410  0.196394  0.144069  \n",
       "1  0.044854  0.209831  0.323839  0.000000  0.072036  \n",
       "2  0.000000  0.275785  0.000000  0.110061  0.000000  \n",
       "3  0.242112  0.489316  0.000000  0.209828  0.000000  \n",
       "4  0.762437  0.000000  0.000000  0.000000  0.020132  "
      ]
     },
     "execution_count": 43,
     "metadata": {},
     "output_type": "execute_result"
    }
   ],
   "source": [
    "# peek into a dataframe to ensure it worked right\n",
    "df_neg.head()"
   ]
  },
  {
   "cell_type": "code",
   "execution_count": 44,
   "metadata": {},
   "outputs": [],
   "source": [
    "# group by business_id and apply mean/count functions to columns\n",
    "df_pos_bsns = df_pos.groupby('business_id').agg({'stars':'mean', 'text':'count',\n",
    "                                                 'review_length':'mean',0:'mean', \n",
    "                                                 1:'mean', 2:'mean', 3:'mean',\n",
    "                                                 4:'mean', 5:'mean'}).reset_index()\n",
    "df_neg_bsns = df_neg.groupby('business_id').agg({'stars':'mean', 'text':'count',\n",
    "                                                 'review_length':'mean',0:'mean', \n",
    "                                                 1:'mean', 2:'mean', 3:'mean',\n",
    "                                                 4:'mean', 5:'mean'}).reset_index()"
   ]
  },
  {
   "cell_type": "code",
   "execution_count": 45,
   "metadata": {},
   "outputs": [
    {
     "data": {
      "text/html": [
       "<div>\n",
       "<style scoped>\n",
       "    .dataframe tbody tr th:only-of-type {\n",
       "        vertical-align: middle;\n",
       "    }\n",
       "\n",
       "    .dataframe tbody tr th {\n",
       "        vertical-align: top;\n",
       "    }\n",
       "\n",
       "    .dataframe thead th {\n",
       "        text-align: right;\n",
       "    }\n",
       "</style>\n",
       "<table border=\"1\" class=\"dataframe\">\n",
       "  <thead>\n",
       "    <tr style=\"text-align: right;\">\n",
       "      <th></th>\n",
       "      <th>business_id</th>\n",
       "      <th>stars</th>\n",
       "      <th>text</th>\n",
       "      <th>review_length</th>\n",
       "      <th>0</th>\n",
       "      <th>1</th>\n",
       "      <th>2</th>\n",
       "      <th>3</th>\n",
       "      <th>4</th>\n",
       "      <th>5</th>\n",
       "    </tr>\n",
       "  </thead>\n",
       "  <tbody>\n",
       "    <tr>\n",
       "      <th>0</th>\n",
       "      <td>-CQokjildrY7UZezXCdEBw</td>\n",
       "      <td>4.875000</td>\n",
       "      <td>40</td>\n",
       "      <td>743.800000</td>\n",
       "      <td>0.230307</td>\n",
       "      <td>0.098484</td>\n",
       "      <td>0.197745</td>\n",
       "      <td>0.150988</td>\n",
       "      <td>0.095735</td>\n",
       "      <td>0.226743</td>\n",
       "    </tr>\n",
       "    <tr>\n",
       "      <th>1</th>\n",
       "      <td>-JfncbVURtvuzBbof40o1w</td>\n",
       "      <td>4.176471</td>\n",
       "      <td>34</td>\n",
       "      <td>556.735294</td>\n",
       "      <td>0.390101</td>\n",
       "      <td>0.087458</td>\n",
       "      <td>0.155932</td>\n",
       "      <td>0.089359</td>\n",
       "      <td>0.067355</td>\n",
       "      <td>0.209795</td>\n",
       "    </tr>\n",
       "    <tr>\n",
       "      <th>2</th>\n",
       "      <td>-OEIW0dO96-492qa_luxaw</td>\n",
       "      <td>4.557143</td>\n",
       "      <td>210</td>\n",
       "      <td>669.052381</td>\n",
       "      <td>0.265430</td>\n",
       "      <td>0.081876</td>\n",
       "      <td>0.175936</td>\n",
       "      <td>0.134427</td>\n",
       "      <td>0.130553</td>\n",
       "      <td>0.211779</td>\n",
       "    </tr>\n",
       "    <tr>\n",
       "      <th>3</th>\n",
       "      <td>-PGsEXB6DFTVKa1eDOlzWA</td>\n",
       "      <td>4.660550</td>\n",
       "      <td>109</td>\n",
       "      <td>459.532110</td>\n",
       "      <td>0.253801</td>\n",
       "      <td>0.101928</td>\n",
       "      <td>0.211626</td>\n",
       "      <td>0.119228</td>\n",
       "      <td>0.097293</td>\n",
       "      <td>0.216123</td>\n",
       "    </tr>\n",
       "    <tr>\n",
       "      <th>4</th>\n",
       "      <td>-SGZcGqnsp_uRIjKP2RGZg</td>\n",
       "      <td>4.666667</td>\n",
       "      <td>6</td>\n",
       "      <td>343.666667</td>\n",
       "      <td>0.211774</td>\n",
       "      <td>0.016159</td>\n",
       "      <td>0.429407</td>\n",
       "      <td>0.137685</td>\n",
       "      <td>0.034168</td>\n",
       "      <td>0.170808</td>\n",
       "    </tr>\n",
       "  </tbody>\n",
       "</table>\n",
       "</div>"
      ],
      "text/plain": [
       "              business_id     stars  text  review_length         0         1  \\\n",
       "0  -CQokjildrY7UZezXCdEBw  4.875000    40     743.800000  0.230307  0.098484   \n",
       "1  -JfncbVURtvuzBbof40o1w  4.176471    34     556.735294  0.390101  0.087458   \n",
       "2  -OEIW0dO96-492qa_luxaw  4.557143   210     669.052381  0.265430  0.081876   \n",
       "3  -PGsEXB6DFTVKa1eDOlzWA  4.660550   109     459.532110  0.253801  0.101928   \n",
       "4  -SGZcGqnsp_uRIjKP2RGZg  4.666667     6     343.666667  0.211774  0.016159   \n",
       "\n",
       "          2         3         4         5  \n",
       "0  0.197745  0.150988  0.095735  0.226743  \n",
       "1  0.155932  0.089359  0.067355  0.209795  \n",
       "2  0.175936  0.134427  0.130553  0.211779  \n",
       "3  0.211626  0.119228  0.097293  0.216123  \n",
       "4  0.429407  0.137685  0.034168  0.170808  "
      ]
     },
     "execution_count": 45,
     "metadata": {},
     "output_type": "execute_result"
    }
   ],
   "source": [
    "df_pos_bsns.head()"
   ]
  },
  {
   "cell_type": "code",
   "execution_count": 46,
   "metadata": {},
   "outputs": [
    {
     "data": {
      "text/html": [
       "<div>\n",
       "<style scoped>\n",
       "    .dataframe tbody tr th:only-of-type {\n",
       "        vertical-align: middle;\n",
       "    }\n",
       "\n",
       "    .dataframe tbody tr th {\n",
       "        vertical-align: top;\n",
       "    }\n",
       "\n",
       "    .dataframe thead th {\n",
       "        text-align: right;\n",
       "    }\n",
       "</style>\n",
       "<table border=\"1\" class=\"dataframe\">\n",
       "  <thead>\n",
       "    <tr style=\"text-align: right;\">\n",
       "      <th></th>\n",
       "      <th>business_id</th>\n",
       "      <th>stars</th>\n",
       "      <th>text</th>\n",
       "      <th>review_length</th>\n",
       "      <th>0</th>\n",
       "      <th>1</th>\n",
       "      <th>2</th>\n",
       "      <th>3</th>\n",
       "      <th>4</th>\n",
       "      <th>5</th>\n",
       "    </tr>\n",
       "  </thead>\n",
       "  <tbody>\n",
       "    <tr>\n",
       "      <th>0</th>\n",
       "      <td>-CQokjildrY7UZezXCdEBw</td>\n",
       "      <td>2.000000</td>\n",
       "      <td>1</td>\n",
       "      <td>1657.000000</td>\n",
       "      <td>0.450817</td>\n",
       "      <td>0.000000</td>\n",
       "      <td>0.193718</td>\n",
       "      <td>0.118123</td>\n",
       "      <td>0.237343</td>\n",
       "      <td>0.000000</td>\n",
       "    </tr>\n",
       "    <tr>\n",
       "      <th>1</th>\n",
       "      <td>-JfncbVURtvuzBbof40o1w</td>\n",
       "      <td>1.430769</td>\n",
       "      <td>65</td>\n",
       "      <td>642.630769</td>\n",
       "      <td>0.255473</td>\n",
       "      <td>0.142078</td>\n",
       "      <td>0.178877</td>\n",
       "      <td>0.154595</td>\n",
       "      <td>0.151350</td>\n",
       "      <td>0.117627</td>\n",
       "    </tr>\n",
       "    <tr>\n",
       "      <th>2</th>\n",
       "      <td>-OEIW0dO96-492qa_luxaw</td>\n",
       "      <td>1.363636</td>\n",
       "      <td>33</td>\n",
       "      <td>841.121212</td>\n",
       "      <td>0.205873</td>\n",
       "      <td>0.137145</td>\n",
       "      <td>0.198206</td>\n",
       "      <td>0.158551</td>\n",
       "      <td>0.135997</td>\n",
       "      <td>0.164227</td>\n",
       "    </tr>\n",
       "    <tr>\n",
       "      <th>3</th>\n",
       "      <td>-PGsEXB6DFTVKa1eDOlzWA</td>\n",
       "      <td>1.400000</td>\n",
       "      <td>65</td>\n",
       "      <td>940.276923</td>\n",
       "      <td>0.211317</td>\n",
       "      <td>0.120797</td>\n",
       "      <td>0.191376</td>\n",
       "      <td>0.163314</td>\n",
       "      <td>0.183507</td>\n",
       "      <td>0.129690</td>\n",
       "    </tr>\n",
       "    <tr>\n",
       "      <th>4</th>\n",
       "      <td>-SGZcGqnsp_uRIjKP2RGZg</td>\n",
       "      <td>1.000000</td>\n",
       "      <td>3</td>\n",
       "      <td>632.000000</td>\n",
       "      <td>0.798511</td>\n",
       "      <td>0.023068</td>\n",
       "      <td>0.000000</td>\n",
       "      <td>0.000000</td>\n",
       "      <td>0.000000</td>\n",
       "      <td>0.178421</td>\n",
       "    </tr>\n",
       "  </tbody>\n",
       "</table>\n",
       "</div>"
      ],
      "text/plain": [
       "              business_id     stars  text  review_length         0         1  \\\n",
       "0  -CQokjildrY7UZezXCdEBw  2.000000     1    1657.000000  0.450817  0.000000   \n",
       "1  -JfncbVURtvuzBbof40o1w  1.430769    65     642.630769  0.255473  0.142078   \n",
       "2  -OEIW0dO96-492qa_luxaw  1.363636    33     841.121212  0.205873  0.137145   \n",
       "3  -PGsEXB6DFTVKa1eDOlzWA  1.400000    65     940.276923  0.211317  0.120797   \n",
       "4  -SGZcGqnsp_uRIjKP2RGZg  1.000000     3     632.000000  0.798511  0.023068   \n",
       "\n",
       "          2         3         4         5  \n",
       "0  0.193718  0.118123  0.237343  0.000000  \n",
       "1  0.178877  0.154595  0.151350  0.117627  \n",
       "2  0.198206  0.158551  0.135997  0.164227  \n",
       "3  0.191376  0.163314  0.183507  0.129690  \n",
       "4  0.000000  0.000000  0.000000  0.178421  "
      ]
     },
     "execution_count": 46,
     "metadata": {},
     "output_type": "execute_result"
    }
   ],
   "source": [
    "df_neg_bsns.head()"
   ]
  },
  {
   "cell_type": "markdown",
   "metadata": {},
   "source": [
    "## Adding in Business Information "
   ]
  },
  {
   "cell_type": "code",
   "execution_count": 47,
   "metadata": {},
   "outputs": [],
   "source": [
    "# merge business name/city with topic data\n",
    "df_pos_tot = df_pos_bsns.merge(restaurants_df[['business_id', 'name', 'city', 'stars']], left_on='business_id', \n",
    "                               right_on='business_id')[['business_id', 'name', 'city', 'stars_y', 0, 1, 2, 3, 4, 5]]\n",
    "\n",
    "df_neg_tot = df_neg_bsns.merge(restaurants_df[['business_id', 'name', 'city', 'stars']], left_on='business_id', \n",
    "                               right_on='business_id')[['business_id', 'name', 'city', 'stars_y', 0, 1, 2, 3, 4, 5]]"
   ]
  },
  {
   "cell_type": "code",
   "execution_count": 54,
   "metadata": {},
   "outputs": [
    {
     "data": {
      "text/html": [
       "<div>\n",
       "<style scoped>\n",
       "    .dataframe tbody tr th:only-of-type {\n",
       "        vertical-align: middle;\n",
       "    }\n",
       "\n",
       "    .dataframe tbody tr th {\n",
       "        vertical-align: top;\n",
       "    }\n",
       "\n",
       "    .dataframe thead th {\n",
       "        text-align: right;\n",
       "    }\n",
       "</style>\n",
       "<table border=\"1\" class=\"dataframe\">\n",
       "  <thead>\n",
       "    <tr style=\"text-align: right;\">\n",
       "      <th></th>\n",
       "      <th>business_id</th>\n",
       "      <th>name</th>\n",
       "      <th>city</th>\n",
       "      <th>stars_y</th>\n",
       "      <th>0</th>\n",
       "      <th>1</th>\n",
       "      <th>2</th>\n",
       "      <th>3</th>\n",
       "      <th>4</th>\n",
       "      <th>5</th>\n",
       "    </tr>\n",
       "  </thead>\n",
       "  <tbody>\n",
       "    <tr>\n",
       "      <th>742</th>\n",
       "      <td>zU9w_xRlQSRIYXxGo-HSOA</td>\n",
       "      <td>Carnegie</td>\n",
       "      <td>Las Vegas</td>\n",
       "      <td>3.0</td>\n",
       "      <td>0.283571</td>\n",
       "      <td>0.115282</td>\n",
       "      <td>0.180055</td>\n",
       "      <td>0.150501</td>\n",
       "      <td>0.164101</td>\n",
       "      <td>0.106491</td>\n",
       "    </tr>\n",
       "  </tbody>\n",
       "</table>\n",
       "</div>"
      ],
      "text/plain": [
       "                business_id      name       city  stars_y         0         1  \\\n",
       "742  zU9w_xRlQSRIYXxGo-HSOA  Carnegie  Las Vegas      3.0  0.283571  0.115282   \n",
       "\n",
       "            2         3         4         5  \n",
       "742  0.180055  0.150501  0.164101  0.106491  "
      ]
     },
     "execution_count": 54,
     "metadata": {},
     "output_type": "execute_result"
    }
   ],
   "source": [
    "# peek into business/topic distributions\n",
    "df_neg_tot[df_neg_tot.name == 'Carnegie']"
   ]
  },
  {
   "cell_type": "code",
   "execution_count": 59,
   "metadata": {},
   "outputs": [
    {
     "name": "stdout",
     "output_type": "stream",
     "text": [
      "Carnegie - Positive Reviews\n",
      "------------------------------------\n",
      "Topic 0: waiting_time       > 0.2851\n",
      "Topic 1: burger/fries       > 0.1175\n",
      "Topic 2: great_service      > 0.1688\n",
      "Topic 3: breakfast/pancakes > 0.1014\n",
      "Topic 4: chicken/waffles    > 0.1067\n",
      "Topic 5: location           > 0.2206\n",
      "\n",
      "\n",
      "\n",
      "Carnegie - Negative Reviews\n",
      "------------------------------------\n",
      "Topic 0: location/bar       > 0.2836\n",
      "Topic 1: burger/fries       > 0.1153\n",
      "Topic 2: waiting_time       > 0.1801\n",
      "Topic 3: chicken/salad      > 0.1505\n",
      "Topic 4: bad_service        > 0.1641\n",
      "Topic 5: breakfast/price    > 0.1065\n"
     ]
    }
   ],
   "source": [
    "scores = df_pos_bsns[df_pos_bsns.business_id == 'zU9w_xRlQSRIYXxGo-HSOA'].iloc[:,-6:].values\n",
    "print(restaurants_df[restaurants_df.business_id == 'zU9w_xRlQSRIYXxGo-HSOA']['name'].values[0] + ' - Positive Reviews')\n",
    "print('-'*36)\n",
    "for n in pos_topics:\n",
    "    print('Topic {}: {:18} > {:.4f}'.format(n, pos_topics[n], scores[0][n]))\n",
    "\n",
    "print('')\n",
    "print('')\n",
    "print('')\n",
    "    \n",
    "scores = df_neg_bsns[df_neg_bsns.business_id == 'zU9w_xRlQSRIYXxGo-HSOA'].iloc[:,-6:].values\n",
    "print(restaurants_df[restaurants_df.business_id == 'zU9w_xRlQSRIYXxGo-HSOA']['name'].values[0] + ' - Negative Reviews')\n",
    "print('-'*36)\n",
    "for n in neg_topics:\n",
    "    print('Topic {}: {:18} > {:.4f}'.format(n, neg_topics[n], scores[0][n]))\n",
    "    \n",
    "\n",
    "    \n"
   ]
  },
  {
   "cell_type": "code",
   "execution_count": 58,
   "metadata": {},
   "outputs": [
    {
     "name": "stdout",
     "output_type": "stream",
     "text": [
      "Wall time: 5.23 s\n"
     ]
    }
   ],
   "source": [
    "%%time\n",
    "# write to CSV\n",
    "df_pos_tot.to_csv('datasets/pos_bsns.csv')\n",
    "df_neg_tot.to_csv('datasets/neg_bsns.csv')\n",
    "df_pos.to_csv('datasets/pos_reviews.csv')\n",
    "df_neg.to_csv('datasets/neg_reviews.csv')"
   ]
  }
 ],
 "metadata": {
  "kernelspec": {
   "display_name": "Python 3",
   "language": "python",
   "name": "python3"
  },
  "language_info": {
   "codemirror_mode": {
    "name": "ipython",
    "version": 3
   },
   "file_extension": ".py",
   "mimetype": "text/x-python",
   "name": "python",
   "nbconvert_exporter": "python",
   "pygments_lexer": "ipython3",
   "version": "3.7.0"
  }
 },
 "nbformat": 4,
 "nbformat_minor": 2
}
